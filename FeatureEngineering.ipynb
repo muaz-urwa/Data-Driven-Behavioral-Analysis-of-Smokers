{
 "cells": [
  {
   "cell_type": "code",
   "execution_count": 68,
   "metadata": {},
   "outputs": [
    {
     "name": "stdout",
     "output_type": "stream",
     "text": [
      "Populating the interactive namespace from numpy and matplotlib\n"
     ]
    }
   ],
   "source": [
    "from __future__ import print_function\n",
    "import numpy as np\n",
    "import pandas as pd\n",
    "\n",
    "\n",
    "from sklearn.ensemble  import RandomForestClassifier as rfc\n",
    "from sklearn.model_selection import train_test_split\n",
    "from sklearn.metrics import confusion_matrix\n",
    "from sklearn.metrics import classification_report\n",
    "from sklearn.linear_model import LogisticRegression as logreg\n",
    "\n",
    "import statsmodels as sm\n",
    "import statsmodels.formula.api as smf\n",
    "import statsmodels.api as sma\n",
    "\n",
    "from sklearn.feature_selection import chi2\n",
    "\n",
    "import scipy as sp\n",
    "from scipy import stats\n",
    "\n",
    "from sklearn.preprocessing import LabelEncoder\n",
    "import seaborn as sns\n",
    "\n",
    "import pylab as pl\n",
    "%pylab inline"
   ]
  },
  {
   "cell_type": "code",
   "execution_count": 69,
   "metadata": {},
   "outputs": [],
   "source": [
    "# the directory that contains all the files\n",
    "dataDirectory = 'data/'"
   ]
  },
  {
   "cell_type": "code",
   "execution_count": 70,
   "metadata": {},
   "outputs": [],
   "source": [
    "file = 'llcp2017_formatted.csv'\n",
    "df = pd.read_csv(dataDirectory+file)"
   ]
  },
  {
   "cell_type": "code",
   "execution_count": 71,
   "metadata": {},
   "outputs": [
    {
     "data": {
      "text/html": [
       "<div>\n",
       "<style scoped>\n",
       "    .dataframe tbody tr th:only-of-type {\n",
       "        vertical-align: middle;\n",
       "    }\n",
       "\n",
       "    .dataframe tbody tr th {\n",
       "        vertical-align: top;\n",
       "    }\n",
       "\n",
       "    .dataframe thead th {\n",
       "        text-align: right;\n",
       "    }\n",
       "</style>\n",
       "<table border=\"1\" class=\"dataframe\">\n",
       "  <thead>\n",
       "    <tr style=\"text-align: right;\">\n",
       "      <th></th>\n",
       "      <th>STATE FIPS CODE</th>\n",
       "      <th>FILE MONTH</th>\n",
       "      <th>INTERVIEW DATE</th>\n",
       "      <th>INTERVIEW MONTH</th>\n",
       "      <th>INTERVIEW DAY</th>\n",
       "      <th>INTERVIEW YEAR</th>\n",
       "      <th>FINAL DISPOSITION</th>\n",
       "      <th>ANNUAL SEQUENCE NUMBER</th>\n",
       "      <th>PRIMARY SAMPLING UNIT</th>\n",
       "      <th>CORRECT TELEPHONE NUMBER?</th>\n",
       "      <th>...</th>\n",
       "      <th>_IMPCAGE</th>\n",
       "      <th>_IMPCRAC</th>\n",
       "      <th>_IMPCSEX</th>\n",
       "      <th>_IMPEDUC</th>\n",
       "      <th>_IMPHOME</th>\n",
       "      <th>_IMPMRTL</th>\n",
       "      <th>_IMPNPH</th>\n",
       "      <th>_IMPSEX</th>\n",
       "      <th>_M_RACE</th>\n",
       "      <th>_URBNRRL</th>\n",
       "    </tr>\n",
       "  </thead>\n",
       "  <tbody>\n",
       "    <tr>\n",
       "      <th>0</th>\n",
       "      <td>Alabama</td>\n",
       "      <td>January</td>\n",
       "      <td>1302017</td>\n",
       "      <td>01</td>\n",
       "      <td>30</td>\n",
       "      <td>2017</td>\n",
       "      <td>1100</td>\n",
       "      <td>2017000001</td>\n",
       "      <td>2017000001</td>\n",
       "      <td>Yes</td>\n",
       "      <td>...</td>\n",
       "      <td>Not asked or Missing</td>\n",
       "      <td>Missing</td>\n",
       "      <td>Missing</td>\n",
       "      <td>Missing</td>\n",
       "      <td>Missing</td>\n",
       "      <td>Missing</td>\n",
       "      <td>NaN</td>\n",
       "      <td>Not asked or Missing</td>\n",
       "      <td>Not asked or Missing</td>\n",
       "      <td>Missing</td>\n",
       "    </tr>\n",
       "    <tr>\n",
       "      <th>1</th>\n",
       "      <td>Alabama</td>\n",
       "      <td>January</td>\n",
       "      <td>1122017</td>\n",
       "      <td>01</td>\n",
       "      <td>12</td>\n",
       "      <td>2017</td>\n",
       "      <td>1100</td>\n",
       "      <td>2017000002</td>\n",
       "      <td>2017000002</td>\n",
       "      <td>Yes</td>\n",
       "      <td>...</td>\n",
       "      <td>Not asked or Missing</td>\n",
       "      <td>Missing</td>\n",
       "      <td>Missing</td>\n",
       "      <td>Missing</td>\n",
       "      <td>Missing</td>\n",
       "      <td>Missing</td>\n",
       "      <td>NaN</td>\n",
       "      <td>Not asked or Missing</td>\n",
       "      <td>Not asked or Missing</td>\n",
       "      <td>Missing</td>\n",
       "    </tr>\n",
       "    <tr>\n",
       "      <th>2</th>\n",
       "      <td>Alabama</td>\n",
       "      <td>January</td>\n",
       "      <td>1102017</td>\n",
       "      <td>01</td>\n",
       "      <td>10</td>\n",
       "      <td>2017</td>\n",
       "      <td>1100</td>\n",
       "      <td>2017000003</td>\n",
       "      <td>2017000003</td>\n",
       "      <td>Yes</td>\n",
       "      <td>...</td>\n",
       "      <td>Not asked or Missing</td>\n",
       "      <td>Missing</td>\n",
       "      <td>Missing</td>\n",
       "      <td>Missing</td>\n",
       "      <td>Missing</td>\n",
       "      <td>Missing</td>\n",
       "      <td>NaN</td>\n",
       "      <td>Not asked or Missing</td>\n",
       "      <td>Not asked or Missing</td>\n",
       "      <td>Missing</td>\n",
       "    </tr>\n",
       "    <tr>\n",
       "      <th>3</th>\n",
       "      <td>Alabama</td>\n",
       "      <td>January</td>\n",
       "      <td>2082017</td>\n",
       "      <td>02</td>\n",
       "      <td>8</td>\n",
       "      <td>2017</td>\n",
       "      <td>1200</td>\n",
       "      <td>2017000004</td>\n",
       "      <td>2017000004</td>\n",
       "      <td>Yes</td>\n",
       "      <td>...</td>\n",
       "      <td>Not asked or Missing</td>\n",
       "      <td>Missing</td>\n",
       "      <td>Missing</td>\n",
       "      <td>Missing</td>\n",
       "      <td>Missing</td>\n",
       "      <td>Missing</td>\n",
       "      <td>NaN</td>\n",
       "      <td>Not asked or Missing</td>\n",
       "      <td>Not asked or Missing</td>\n",
       "      <td>Missing</td>\n",
       "    </tr>\n",
       "    <tr>\n",
       "      <th>4</th>\n",
       "      <td>Alabama</td>\n",
       "      <td>January</td>\n",
       "      <td>1302017</td>\n",
       "      <td>01</td>\n",
       "      <td>30</td>\n",
       "      <td>2017</td>\n",
       "      <td>1100</td>\n",
       "      <td>2017000005</td>\n",
       "      <td>2017000005</td>\n",
       "      <td>Yes</td>\n",
       "      <td>...</td>\n",
       "      <td>Not asked or Missing</td>\n",
       "      <td>Missing</td>\n",
       "      <td>Missing</td>\n",
       "      <td>Missing</td>\n",
       "      <td>Missing</td>\n",
       "      <td>Missing</td>\n",
       "      <td>NaN</td>\n",
       "      <td>Not asked or Missing</td>\n",
       "      <td>Not asked or Missing</td>\n",
       "      <td>Missing</td>\n",
       "    </tr>\n",
       "  </tbody>\n",
       "</table>\n",
       "<p>5 rows × 384 columns</p>\n",
       "</div>"
      ],
      "text/plain": [
       "  STATE FIPS CODE FILE MONTH  INTERVIEW DATE INTERVIEW MONTH  INTERVIEW DAY  \\\n",
       "0         Alabama    January         1302017              01             30   \n",
       "1         Alabama    January         1122017              01             12   \n",
       "2         Alabama    January         1102017              01             10   \n",
       "3         Alabama    January         2082017              02              8   \n",
       "4         Alabama    January         1302017              01             30   \n",
       "\n",
       "   INTERVIEW YEAR  FINAL DISPOSITION  ANNUAL SEQUENCE NUMBER  \\\n",
       "0            2017               1100              2017000001   \n",
       "1            2017               1100              2017000002   \n",
       "2            2017               1100              2017000003   \n",
       "3            2017               1200              2017000004   \n",
       "4            2017               1100              2017000005   \n",
       "\n",
       "   PRIMARY SAMPLING UNIT CORRECT TELEPHONE NUMBER?   ...     \\\n",
       "0             2017000001                       Yes   ...      \n",
       "1             2017000002                       Yes   ...      \n",
       "2             2017000003                       Yes   ...      \n",
       "3             2017000004                       Yes   ...      \n",
       "4             2017000005                       Yes   ...      \n",
       "\n",
       "               _IMPCAGE _IMPCRAC  _IMPCSEX _IMPEDUC  _IMPHOME  _IMPMRTL  \\\n",
       "0  Not asked or Missing  Missing   Missing  Missing   Missing   Missing   \n",
       "1  Not asked or Missing  Missing   Missing  Missing   Missing   Missing   \n",
       "2  Not asked or Missing  Missing   Missing  Missing   Missing   Missing   \n",
       "3  Not asked or Missing  Missing   Missing  Missing   Missing   Missing   \n",
       "4  Not asked or Missing  Missing   Missing  Missing   Missing   Missing   \n",
       "\n",
       "   _IMPNPH               _IMPSEX               _M_RACE _URBNRRL  \n",
       "0      NaN  Not asked or Missing  Not asked or Missing  Missing  \n",
       "1      NaN  Not asked or Missing  Not asked or Missing  Missing  \n",
       "2      NaN  Not asked or Missing  Not asked or Missing  Missing  \n",
       "3      NaN  Not asked or Missing  Not asked or Missing  Missing  \n",
       "4      NaN  Not asked or Missing  Not asked or Missing  Missing  \n",
       "\n",
       "[5 rows x 384 columns]"
      ]
     },
     "execution_count": 71,
     "metadata": {},
     "output_type": "execute_result"
    }
   ],
   "source": [
    "df.head()"
   ]
  },
  {
   "cell_type": "code",
   "execution_count": 72,
   "metadata": {},
   "outputs": [
    {
     "name": "stdout",
     "output_type": "stream",
     "text": [
      "Number of records:  450642\n"
     ]
    }
   ],
   "source": [
    "print(\"Number of records: \",len(df))"
   ]
  },
  {
   "cell_type": "markdown",
   "metadata": {},
   "source": [
    "### Helper Functions"
   ]
  },
  {
   "cell_type": "code",
   "execution_count": 73,
   "metadata": {},
   "outputs": [],
   "source": [
    "def containsKeyword(sent):\n",
    "    sent = sent.lower()\n",
    "    for f in filterList:\n",
    "        if f in sent:\n",
    "            return True\n",
    "    return False"
   ]
  },
  {
   "cell_type": "markdown",
   "metadata": {},
   "source": [
    "## Label Computing"
   ]
  },
  {
   "cell_type": "code",
   "execution_count": 74,
   "metadata": {},
   "outputs": [
    {
     "name": "stdout",
     "output_type": "stream",
     "text": [
      "data size:  450642\n",
      "clean data size:  427526\n",
      "Frequency distributions:\n",
      "No     413906\n",
      "Yes     13620\n",
      "Name: esmoke, dtype: int64\n",
      "No     364794\n",
      "Yes     62732\n",
      "Name: smoke, dtype: int64\n"
     ]
    }
   ],
   "source": [
    "df.rename(columns={'CURRENT E-CIGARETTE USER CALCULATED VARI': 'esmoke', \\\n",
    "                     'CURRENT SMOKING CALCULATED VARIABLE':'smoke'},inplace = True)\n",
    "\n",
    "\n",
    "mapper = {'Current E-cigarette user': 'Yes', 'Not currently using E-cigarettes': 'No' }\n",
    "df['esmoke'] = df['esmoke'].map(mapper)\n",
    "\n",
    "print(\"data size: \",len(df))\n",
    "df = df[df.smoke.apply(lambda x: x in ['Yes','No']) ]\n",
    "df = df[df.esmoke.apply(lambda x: x in ['Yes','No']) ]\n",
    "print(\"clean data size: \",len(df))\n",
    "\n",
    "print(\"Frequency distributions:\")\n",
    "print(df.esmoke.value_counts())\n",
    "print(df.smoke.value_counts())\n"
   ]
  },
  {
   "cell_type": "code",
   "execution_count": 8,
   "metadata": {},
   "outputs": [
    {
     "name": "stdout",
     "output_type": "stream",
     "text": [
      "clean data size:  69143\n",
      "clean data size:  61934\n"
     ]
    }
   ],
   "source": [
    "# remove non smokers\n",
    "df = df[ (df.smoke == 'Yes') | (df.esmoke == 'Yes') ]\n",
    "print(\"clean data size: \",len(df))\n",
    "\n",
    "# remove both smokers\n",
    "df = df[ ~((df.smoke == 'Yes') & (df.esmoke == 'Yes')) ]\n",
    "print(\"clean data size: \",len(df))"
   ]
  },
  {
   "cell_type": "code",
   "execution_count": 9,
   "metadata": {},
   "outputs": [],
   "source": [
    "# label is 1 for esmoker and zero for non smoker\n",
    "#df['label'] = (df.esmoke == 'Yes') "
   ]
  },
  {
   "cell_type": "code",
   "execution_count": 75,
   "metadata": {},
   "outputs": [],
   "source": [
    "df['label'] = df.smoke"
   ]
  },
  {
   "cell_type": "markdown",
   "metadata": {},
   "source": [
    "## Feature Engineering"
   ]
  },
  {
   "cell_type": "code",
   "execution_count": 76,
   "metadata": {},
   "outputs": [
    {
     "name": "stdout",
     "output_type": "stream",
     "text": [
      "Number of calculated/computed columns:  40\n"
     ]
    }
   ],
   "source": [
    "# Find the columns that contain smoking key word\n",
    "filterList = ['smok','cig']    \n",
    "smokecols = [c for c in df.columns if containsKeyword(c)]\n",
    "smokecols\n",
    "\n",
    "## Explore the calculated and computed columns\n",
    "filterList = ['computed', 'calculated'] + ['label']\n",
    "calcols = [c for c in df.columns if containsKeyword(c)]\n",
    "print(\"Number of calculated/computed columns: \",len(calcols))\n",
    "\n",
    "# create a datframe that only has calculated columns\n",
    "comDF = df[calcols]"
   ]
  },
  {
   "cell_type": "code",
   "execution_count": null,
   "metadata": {},
   "outputs": [],
   "source": []
  },
  {
   "cell_type": "code",
   "execution_count": null,
   "metadata": {},
   "outputs": [],
   "source": []
  },
  {
   "cell_type": "code",
   "execution_count": 77,
   "metadata": {
    "scrolled": true
   },
   "outputs": [
    {
     "name": "stdout",
     "output_type": "stream",
     "text": [
      "Column : label\n",
      "Empty DataFrame\n",
      "Columns: [esmoke, smoke]\n",
      "Index: []\n"
     ]
    },
    {
     "ename": "ValueError",
     "evalue": "min() arg is an empty sequence",
     "output_type": "error",
     "traceback": [
      "\u001b[0;31m---------------------------------------------------------------------------\u001b[0m",
      "\u001b[0;31mValueError\u001b[0m                                Traceback (most recent call last)",
      "\u001b[0;32m<ipython-input-77-543063212fc6>\u001b[0m in \u001b[0;36m<module>\u001b[0;34m()\u001b[0m\n\u001b[1;32m     14\u001b[0m \u001b[0;34m\u001b[0m\u001b[0m\n\u001b[1;32m     15\u001b[0m \u001b[0mfig\u001b[0m\u001b[0;34m,\u001b[0m \u001b[0max\u001b[0m \u001b[0;34m=\u001b[0m \u001b[0mplt\u001b[0m\u001b[0;34m.\u001b[0m\u001b[0msubplots\u001b[0m\u001b[0;34m(\u001b[0m\u001b[0mfigsize\u001b[0m\u001b[0;34m=\u001b[0m\u001b[0;34m(\u001b[0m\u001b[0;36m8\u001b[0m\u001b[0;34m,\u001b[0m\u001b[0;36m6\u001b[0m\u001b[0;34m)\u001b[0m\u001b[0;34m)\u001b[0m\u001b[0;34m\u001b[0m\u001b[0m\n\u001b[0;32m---> 16\u001b[0;31m \u001b[0m_\u001b[0m\u001b[0;34m=\u001b[0m\u001b[0msns\u001b[0m\u001b[0;34m.\u001b[0m\u001b[0mbarplot\u001b[0m\u001b[0;34m(\u001b[0m\u001b[0mvcountDF\u001b[0m\u001b[0;34m.\u001b[0m\u001b[0mindex\u001b[0m\u001b[0;34m,\u001b[0m \u001b[0mvcountDF\u001b[0m\u001b[0;34m.\u001b[0m\u001b[0mesmoke\u001b[0m\u001b[0;34m-\u001b[0m\u001b[0mvcountDF\u001b[0m\u001b[0;34m.\u001b[0m\u001b[0msmoke\u001b[0m\u001b[0;34m,\u001b[0m\u001b[0max\u001b[0m\u001b[0;34m=\u001b[0m\u001b[0max\u001b[0m\u001b[0;34m)\u001b[0m\u001b[0;34m.\u001b[0m\u001b[0mset_xticklabels\u001b[0m\u001b[0;34m(\u001b[0m\u001b[0mvcountDF\u001b[0m\u001b[0;34m.\u001b[0m\u001b[0mindex\u001b[0m\u001b[0;34m,\u001b[0m\u001b[0mrotation\u001b[0m\u001b[0;34m=\u001b[0m\u001b[0;36m30\u001b[0m\u001b[0;34m)\u001b[0m\u001b[0;34m\u001b[0m\u001b[0m\n\u001b[0m\u001b[1;32m     17\u001b[0m \u001b[0;31m#sns.barplot(vcountDF.index, vcountDF.smoke,ax=ax)\u001b[0m\u001b[0;34m\u001b[0m\u001b[0;34m\u001b[0m\u001b[0m\n",
      "\u001b[0;32m/home/urwa/miniconda3/envs/gpd/lib/python2.7/site-packages/seaborn/categorical.pyc\u001b[0m in \u001b[0;36mbarplot\u001b[0;34m(x, y, hue, data, order, hue_order, estimator, ci, n_boot, units, orient, color, palette, saturation, errcolor, errwidth, capsize, dodge, ax, **kwargs)\u001b[0m\n\u001b[1;32m   3147\u001b[0m                           \u001b[0mestimator\u001b[0m\u001b[0;34m,\u001b[0m \u001b[0mci\u001b[0m\u001b[0;34m,\u001b[0m \u001b[0mn_boot\u001b[0m\u001b[0;34m,\u001b[0m \u001b[0munits\u001b[0m\u001b[0;34m,\u001b[0m\u001b[0;34m\u001b[0m\u001b[0m\n\u001b[1;32m   3148\u001b[0m                           \u001b[0morient\u001b[0m\u001b[0;34m,\u001b[0m \u001b[0mcolor\u001b[0m\u001b[0;34m,\u001b[0m \u001b[0mpalette\u001b[0m\u001b[0;34m,\u001b[0m \u001b[0msaturation\u001b[0m\u001b[0;34m,\u001b[0m\u001b[0;34m\u001b[0m\u001b[0m\n\u001b[0;32m-> 3149\u001b[0;31m                           errcolor, errwidth, capsize, dodge)\n\u001b[0m\u001b[1;32m   3150\u001b[0m \u001b[0;34m\u001b[0m\u001b[0m\n\u001b[1;32m   3151\u001b[0m     \u001b[0;32mif\u001b[0m \u001b[0max\u001b[0m \u001b[0;32mis\u001b[0m \u001b[0mNone\u001b[0m\u001b[0;34m:\u001b[0m\u001b[0;34m\u001b[0m\u001b[0m\n",
      "\u001b[0;32m/home/urwa/miniconda3/envs/gpd/lib/python2.7/site-packages/seaborn/categorical.pyc\u001b[0m in \u001b[0;36m__init__\u001b[0;34m(self, x, y, hue, data, order, hue_order, estimator, ci, n_boot, units, orient, color, palette, saturation, errcolor, errwidth, capsize, dodge)\u001b[0m\n\u001b[1;32m   1606\u001b[0m         self.establish_variables(x, y, hue, data, orient,\n\u001b[1;32m   1607\u001b[0m                                  order, hue_order, units)\n\u001b[0;32m-> 1608\u001b[0;31m         \u001b[0mself\u001b[0m\u001b[0;34m.\u001b[0m\u001b[0mestablish_colors\u001b[0m\u001b[0;34m(\u001b[0m\u001b[0mcolor\u001b[0m\u001b[0;34m,\u001b[0m \u001b[0mpalette\u001b[0m\u001b[0;34m,\u001b[0m \u001b[0msaturation\u001b[0m\u001b[0;34m)\u001b[0m\u001b[0;34m\u001b[0m\u001b[0m\n\u001b[0m\u001b[1;32m   1609\u001b[0m         \u001b[0mself\u001b[0m\u001b[0;34m.\u001b[0m\u001b[0mestimate_statistic\u001b[0m\u001b[0;34m(\u001b[0m\u001b[0mestimator\u001b[0m\u001b[0;34m,\u001b[0m \u001b[0mci\u001b[0m\u001b[0;34m,\u001b[0m \u001b[0mn_boot\u001b[0m\u001b[0;34m)\u001b[0m\u001b[0;34m\u001b[0m\u001b[0m\n\u001b[1;32m   1610\u001b[0m \u001b[0;34m\u001b[0m\u001b[0m\n",
      "\u001b[0;32m/home/urwa/miniconda3/envs/gpd/lib/python2.7/site-packages/seaborn/categorical.pyc\u001b[0m in \u001b[0;36mestablish_colors\u001b[0;34m(self, color, palette, saturation)\u001b[0m\n\u001b[1;32m    313\u001b[0m         \u001b[0;31m# Determine the gray color to use for the lines framing the plot\u001b[0m\u001b[0;34m\u001b[0m\u001b[0;34m\u001b[0m\u001b[0m\n\u001b[1;32m    314\u001b[0m         \u001b[0mlight_vals\u001b[0m \u001b[0;34m=\u001b[0m \u001b[0;34m[\u001b[0m\u001b[0mcolorsys\u001b[0m\u001b[0;34m.\u001b[0m\u001b[0mrgb_to_hls\u001b[0m\u001b[0;34m(\u001b[0m\u001b[0;34m*\u001b[0m\u001b[0mc\u001b[0m\u001b[0;34m)\u001b[0m\u001b[0;34m[\u001b[0m\u001b[0;36m1\u001b[0m\u001b[0;34m]\u001b[0m \u001b[0;32mfor\u001b[0m \u001b[0mc\u001b[0m \u001b[0;32min\u001b[0m \u001b[0mrgb_colors\u001b[0m\u001b[0;34m]\u001b[0m\u001b[0;34m\u001b[0m\u001b[0m\n\u001b[0;32m--> 315\u001b[0;31m         \u001b[0mlum\u001b[0m \u001b[0;34m=\u001b[0m \u001b[0mmin\u001b[0m\u001b[0;34m(\u001b[0m\u001b[0mlight_vals\u001b[0m\u001b[0;34m)\u001b[0m \u001b[0;34m*\u001b[0m \u001b[0;36m.6\u001b[0m\u001b[0;34m\u001b[0m\u001b[0m\n\u001b[0m\u001b[1;32m    316\u001b[0m         \u001b[0mgray\u001b[0m \u001b[0;34m=\u001b[0m \u001b[0mmpl\u001b[0m\u001b[0;34m.\u001b[0m\u001b[0mcolors\u001b[0m\u001b[0;34m.\u001b[0m\u001b[0mrgb2hex\u001b[0m\u001b[0;34m(\u001b[0m\u001b[0;34m(\u001b[0m\u001b[0mlum\u001b[0m\u001b[0;34m,\u001b[0m \u001b[0mlum\u001b[0m\u001b[0;34m,\u001b[0m \u001b[0mlum\u001b[0m\u001b[0;34m)\u001b[0m\u001b[0;34m)\u001b[0m\u001b[0;34m\u001b[0m\u001b[0m\n\u001b[1;32m    317\u001b[0m \u001b[0;34m\u001b[0m\u001b[0m\n",
      "\u001b[0;31mValueError\u001b[0m: min() arg is an empty sequence"
     ]
    },
    {
     "data": {
      "image/png": "[encoded data removed]",
      "text/plain": [
       "<matplotlib.figure.Figure at 0x7f244a931790>"
      ]
     },
     "metadata": {
      "needs_background": "light"
     },
     "output_type": "display_data"
    }
   ],
   "source": [
    "i=39\n",
    "col = calcols[i]\n",
    "print(\"Column :\",calcols[i])\n",
    "s1 = comDF[comDF['label']==True][col].value_counts() \n",
    "s1 = s1 *100 / len(comDF[comDF['label']==True])\n",
    "#s1 = s1.astype(int)\n",
    "s2 = comDF[comDF['label']==False][col].value_counts() \n",
    "s2 = s2 *100 / len(comDF[comDF['label']==False])\n",
    "#s2 = s2.astype(int)\n",
    "\n",
    "vcountDF = pd.concat([s1, s2], axis=1)\n",
    "vcountDF.columns = ['esmoke','smoke']\n",
    "print(vcountDF)\n",
    "\n",
    "fig, ax = plt.subplots(figsize=(8,6))\n",
    "_=sns.barplot(vcountDF.index, vcountDF.esmoke-vcountDF.smoke,ax=ax).set_xticklabels(vcountDF.index,rotation=30)\n",
    "#sns.barplot(vcountDF.index, vcountDF.smoke,ax=ax)"
   ]
  },
  {
   "cell_type": "code",
   "execution_count": 78,
   "metadata": {},
   "outputs": [
    {
     "name": "stderr",
     "output_type": "stream",
     "text": [
      "/home/urwa/miniconda3/envs/gpd/lib/python2.7/site-packages/ipykernel_launcher.py:1: SettingWithCopyWarning: \n",
      "A value is trying to be set on a copy of a slice from a DataFrame.\n",
      "Try using .loc[row_indexer,col_indexer] = value instead\n",
      "\n",
      "See the caveats in the documentation: http://pandas.pydata.org/pandas-docs/stable/indexing.html#indexing-view-versus-copy\n",
      "  \"\"\"Entry point for launching an IPython kernel.\n"
     ]
    },
    {
     "data": {
      "text/plain": [
       "False    369193\n",
       "True      58333\n",
       "Name: ads18_frequentHealthIssue, dtype: int64"
      ]
     },
     "execution_count": 78,
     "metadata": {},
     "output_type": "execute_result"
    }
   ],
   "source": [
    "comDF['ads18_frequentHealthIssue'] = (comDF['COMPUTED PHYSICAL HEALTH STATUS']=='14+ days when physical health not good')\n",
    "comDF['ads18_frequentHealthIssue'].value_counts()"
   ]
  },
  {
   "cell_type": "code",
   "execution_count": 79,
   "metadata": {},
   "outputs": [
    {
     "name": "stderr",
     "output_type": "stream",
     "text": [
      "/home/urwa/miniconda3/envs/gpd/lib/python2.7/site-packages/ipykernel_launcher.py:1: SettingWithCopyWarning: \n",
      "A value is trying to be set on a copy of a slice from a DataFrame.\n",
      "Try using .loc[row_indexer,col_indexer] = value instead\n",
      "\n",
      "See the caveats in the documentation: http://pandas.pydata.org/pandas-docs/stable/indexing.html#indexing-view-versus-copy\n",
      "  \"\"\"Entry point for launching an IPython kernel.\n"
     ]
    },
    {
     "data": {
      "text/plain": [
       "False    254757\n",
       "True     172769\n",
       "Name: ads18_highBP, dtype: int64"
      ]
     },
     "execution_count": 79,
     "metadata": {},
     "output_type": "execute_result"
    }
   ],
   "source": [
    "comDF['ads18_highBP'] = (comDF['HIGH BLOOD PRESSURE CALCULATED VARIABLE']=='Yes')\n",
    "comDF['ads18_highBP'].value_counts()"
   ]
  },
  {
   "cell_type": "code",
   "execution_count": 80,
   "metadata": {},
   "outputs": [
    {
     "name": "stderr",
     "output_type": "stream",
     "text": [
      "/home/urwa/miniconda3/envs/gpd/lib/python2.7/site-packages/ipykernel_launcher.py:1: SettingWithCopyWarning: \n",
      "A value is trying to be set on a copy of a slice from a DataFrame.\n",
      "Try using .loc[row_indexer,col_indexer] = value instead\n",
      "\n",
      "See the caveats in the documentation: http://pandas.pydata.org/pandas-docs/stable/indexing.html#indexing-view-versus-copy\n",
      "  \"\"\"Entry point for launching an IPython kernel.\n"
     ]
    },
    {
     "data": {
      "text/plain": [
       "False    277489\n",
       "True     150037\n",
       "Name: ads18_highChl, dtype: int64"
      ]
     },
     "execution_count": 80,
     "metadata": {},
     "output_type": "execute_result"
    }
   ],
   "source": [
    "comDF['ads18_highChl'] = (comDF['HIGH CHOLESTEROL CALCULATED VARIABLE']=='Yes')\n",
    "comDF['ads18_highChl'].value_counts()"
   ]
  },
  {
   "cell_type": "code",
   "execution_count": 81,
   "metadata": {},
   "outputs": [
    {
     "name": "stderr",
     "output_type": "stream",
     "text": [
      "/home/urwa/miniconda3/envs/gpd/lib/python2.7/site-packages/ipykernel_launcher.py:1: SettingWithCopyWarning: \n",
      "A value is trying to be set on a copy of a slice from a DataFrame.\n",
      "Try using .loc[row_indexer,col_indexer] = value instead\n",
      "\n",
      "See the caveats in the documentation: http://pandas.pydata.org/pandas-docs/stable/indexing.html#indexing-view-versus-copy\n",
      "  \"\"\"Entry point for launching an IPython kernel.\n"
     ]
    },
    {
     "data": {
      "text/plain": [
       "False    379184\n",
       "True      48342\n",
       "Name: ads18_unknownChl, dtype: int64"
      ]
     },
     "execution_count": 81,
     "metadata": {},
     "output_type": "execute_result"
    }
   ],
   "source": [
    "comDF['ads18_unknownChl'] = (comDF['HIGH CHOLESTEROL CALCULATED VARIABLE']=='Missing')\n",
    "comDF['ads18_unknownChl'].value_counts()"
   ]
  },
  {
   "cell_type": "code",
   "execution_count": 82,
   "metadata": {},
   "outputs": [
    {
     "name": "stderr",
     "output_type": "stream",
     "text": [
      "/home/urwa/miniconda3/envs/gpd/lib/python2.7/site-packages/ipykernel_launcher.py:1: SettingWithCopyWarning: \n",
      "A value is trying to be set on a copy of a slice from a DataFrame.\n",
      "Try using .loc[row_indexer,col_indexer] = value instead\n",
      "\n",
      "See the caveats in the documentation: http://pandas.pydata.org/pandas-docs/stable/indexing.html#indexing-view-versus-copy\n",
      "  \"\"\"Entry point for launching an IPython kernel.\n"
     ]
    },
    {
     "data": {
      "text/plain": [
       "False    367804\n",
       "True      59722\n",
       "Name: ads18_asthma, dtype: int64"
      ]
     },
     "execution_count": 82,
     "metadata": {},
     "output_type": "execute_result"
    }
   ],
   "source": [
    "comDF['ads18_asthma'] = (comDF['LIFETIME ASTHMA CALCULATED VARIABLE']=='Yes')\n",
    "comDF['ads18_asthma'].value_counts()\n"
   ]
  },
  {
   "cell_type": "code",
   "execution_count": 83,
   "metadata": {},
   "outputs": [
    {
     "name": "stderr",
     "output_type": "stream",
     "text": [
      "/home/urwa/miniconda3/envs/gpd/lib/python2.7/site-packages/ipykernel_launcher.py:1: SettingWithCopyWarning: \n",
      "A value is trying to be set on a copy of a slice from a DataFrame.\n",
      "Try using .loc[row_indexer,col_indexer] = value instead\n",
      "\n",
      "See the caveats in the documentation: http://pandas.pydata.org/pandas-docs/stable/indexing.html#indexing-view-versus-copy\n",
      "  \"\"\"Entry point for launching an IPython kernel.\n"
     ]
    },
    {
     "data": {
      "text/plain": [
       "False    409873\n",
       "True      17653\n",
       "Name: ads18_formerasthma, dtype: int64"
      ]
     },
     "execution_count": 83,
     "metadata": {},
     "output_type": "execute_result"
    }
   ],
   "source": [
    "comDF['ads18_formerasthma'] = (comDF['COMPUTED ASTHMA STATUS']=='Former')\n",
    "comDF['ads18_formerasthma'].value_counts()\n"
   ]
  },
  {
   "cell_type": "code",
   "execution_count": 84,
   "metadata": {},
   "outputs": [
    {
     "name": "stderr",
     "output_type": "stream",
     "text": [
      "/home/urwa/miniconda3/envs/gpd/lib/python2.7/site-packages/ipykernel_launcher.py:1: SettingWithCopyWarning: \n",
      "A value is trying to be set on a copy of a slice from a DataFrame.\n",
      "Try using .loc[row_indexer,col_indexer] = value instead\n",
      "\n",
      "See the caveats in the documentation: http://pandas.pydata.org/pandas-docs/stable/indexing.html#indexing-view-versus-copy\n",
      "  \"\"\"Entry point for launching an IPython kernel.\n"
     ]
    },
    {
     "data": {
      "text/plain": [
       "True     322448\n",
       "False    105078\n",
       "Name: ads18_white, dtype: int64"
      ]
     },
     "execution_count": 84,
     "metadata": {},
     "output_type": "execute_result"
    }
   ],
   "source": [
    "comDF['ads18_white'] = (comDF['COMPUTED NON-HISPANIC WHITES/ALL OTHERS']=='Non-Hispanic White')\n",
    "comDF['ads18_white'].value_counts()\n"
   ]
  },
  {
   "cell_type": "code",
   "execution_count": 85,
   "metadata": {},
   "outputs": [
    {
     "name": "stderr",
     "output_type": "stream",
     "text": [
      "/home/urwa/miniconda3/envs/gpd/lib/python2.7/site-packages/ipykernel_launcher.py:1: SettingWithCopyWarning: \n",
      "A value is trying to be set on a copy of a slice from a DataFrame.\n",
      "Try using .loc[row_indexer,col_indexer] = value instead\n",
      "\n",
      "See the caveats in the documentation: http://pandas.pydata.org/pandas-docs/stable/indexing.html#indexing-view-versus-copy\n",
      "  \"\"\"Entry point for launching an IPython kernel.\n"
     ]
    }
   ],
   "source": [
    "comDF['ads18_weight'] = comDF['COMPUTED WEIGHT IN KILOGRAMS']"
   ]
  },
  {
   "cell_type": "code",
   "execution_count": 86,
   "metadata": {},
   "outputs": [
    {
     "name": "stderr",
     "output_type": "stream",
     "text": [
      "/home/urwa/miniconda3/envs/gpd/lib/python2.7/site-packages/ipykernel_launcher.py:1: SettingWithCopyWarning: \n",
      "A value is trying to be set on a copy of a slice from a DataFrame.\n",
      "Try using .loc[row_indexer,col_indexer] = value instead\n",
      "\n",
      "See the caveats in the documentation: http://pandas.pydata.org/pandas-docs/stable/indexing.html#indexing-view-versus-copy\n",
      "  \"\"\"Entry point for launching an IPython kernel.\n"
     ]
    },
    {
     "data": {
      "text/plain": [
       "True     269399\n",
       "False    158127\n",
       "Name: ads18_obese, dtype: int64"
      ]
     },
     "execution_count": 86,
     "metadata": {},
     "output_type": "execute_result"
    }
   ],
   "source": [
    "comDF['ads18_obese'] = (comDF['COMPUTED BODY MASS INDEX CATEGORIES']=='Overweight') | (comDF['COMPUTED BODY MASS INDEX CATEGORIES']=='Obese') \n",
    "comDF['ads18_obese'].value_counts()\n"
   ]
  },
  {
   "cell_type": "code",
   "execution_count": 87,
   "metadata": {},
   "outputs": [
    {
     "name": "stderr",
     "output_type": "stream",
     "text": [
      "/home/urwa/miniconda3/envs/gpd/lib/python2.7/site-packages/ipykernel_launcher.py:1: SettingWithCopyWarning: \n",
      "A value is trying to be set on a copy of a slice from a DataFrame.\n",
      "Try using .loc[row_indexer,col_indexer] = value instead\n",
      "\n",
      "See the caveats in the documentation: http://pandas.pydata.org/pandas-docs/stable/indexing.html#indexing-view-versus-copy\n",
      "  \"\"\"Entry point for launching an IPython kernel.\n"
     ]
    },
    {
     "data": {
      "text/plain": [
       "False    315122\n",
       "True     112404\n",
       "Name: ads18_havechild, dtype: int64"
      ]
     },
     "execution_count": 87,
     "metadata": {},
     "output_type": "execute_result"
    }
   ],
   "source": [
    "comDF['ads18_havechild'] = (comDF['COMPUTED NUMBER OF CHILDREN IN HOUSEHOLD']!='No children in household') \n",
    "comDF['ads18_havechild'].value_counts()\n"
   ]
  },
  {
   "cell_type": "code",
   "execution_count": 88,
   "metadata": {},
   "outputs": [
    {
     "name": "stderr",
     "output_type": "stream",
     "text": [
      "/home/urwa/miniconda3/envs/gpd/lib/python2.7/site-packages/ipykernel_launcher.py:8: SettingWithCopyWarning: \n",
      "A value is trying to be set on a copy of a slice from a DataFrame.\n",
      "Try using .loc[row_indexer,col_indexer] = value instead\n",
      "\n",
      "See the caveats in the documentation: http://pandas.pydata.org/pandas-docs/stable/indexing.html#indexing-view-versus-copy\n",
      "  \n"
     ]
    },
    {
     "data": {
      "text/plain": [
       "4    161542\n",
       "3    118762\n",
       "2    115421\n",
       "1     31801\n",
       "Name: ads18_edu, dtype: int64"
      ]
     },
     "execution_count": 88,
     "metadata": {},
     "output_type": "execute_result"
    }
   ],
   "source": [
    "edumapper = {'Did not graduate High School':1,\n",
    "             'Don�t know/Not sure/Missing': 1,\n",
    "             'Graduated High School': 2,\n",
    "             'Attended College or Technical School':3,\n",
    "             'Graduated from College or Technical School':4\n",
    "            }\n",
    "\n",
    "comDF['ads18_edu'] = comDF['COMPUTED LEVEL OF EDUCATION COMPLETED CA'].map(edumapper)\n",
    "comDF['ads18_edu'].value_counts()"
   ]
  },
  {
   "cell_type": "code",
   "execution_count": 89,
   "metadata": {},
   "outputs": [
    {
     "name": "stderr",
     "output_type": "stream",
     "text": [
      "/home/urwa/miniconda3/envs/gpd/lib/python2.7/site-packages/ipykernel_launcher.py:9: SettingWithCopyWarning: \n",
      "A value is trying to be set on a copy of a slice from a DataFrame.\n",
      "Try using .loc[row_indexer,col_indexer] = value instead\n",
      "\n",
      "See the caveats in the documentation: http://pandas.pydata.org/pandas-docs/stable/indexing.html#indexing-view-versus-copy\n",
      "  if __name__ == '__main__':\n"
     ]
    },
    {
     "data": {
      "text/plain": [
       "5    177182\n",
       "1    101492\n",
       "2     59227\n",
       "4     51401\n",
       "3     38224\n",
       "Name: ads18_income, dtype: int64"
      ]
     },
     "execution_count": 89,
     "metadata": {},
     "output_type": "execute_result"
    }
   ],
   "source": [
    "edumapper = {'Less than $15,000':1,\n",
    "             'Don�t know/Not sure/Missing': 1,\n",
    "             '$15,000 to less than $25,000': 2,\n",
    "             '$25,000 to less than $35,000':3,\n",
    "             '$35,000 to less than $50,000':4,\n",
    "             '$50,000 or more':5\n",
    "            }\n",
    "\n",
    "comDF['ads18_income'] = comDF['COMPUTED INCOME CATEGORIES'].map(edumapper)\n",
    "comDF['ads18_income'].value_counts()"
   ]
  },
  {
   "cell_type": "code",
   "execution_count": 90,
   "metadata": {},
   "outputs": [
    {
     "name": "stderr",
     "output_type": "stream",
     "text": [
      "/home/urwa/miniconda3/envs/gpd/lib/python2.7/site-packages/ipykernel_launcher.py:1: SettingWithCopyWarning: \n",
      "A value is trying to be set on a copy of a slice from a DataFrame.\n",
      "Try using .loc[row_indexer,col_indexer] = value instead\n",
      "\n",
      "See the caveats in the documentation: http://pandas.pydata.org/pandas-docs/stable/indexing.html#indexing-view-versus-copy\n",
      "  \"\"\"Entry point for launching an IPython kernel.\n"
     ]
    },
    {
     "data": {
      "text/plain": [
       "True     220090\n",
       "False    207436\n",
       "Name: ads18_drinkdaily, dtype: int64"
      ]
     },
     "execution_count": 90,
     "metadata": {},
     "output_type": "execute_result"
    }
   ],
   "source": [
    "comDF['ads18_drinkdaily'] = (comDF['COMPUTED DRINK-OCCASIONS-PER-DAY']=='Drink-Occasions per day') \n",
    "comDF['ads18_drinkdaily'].value_counts()\n"
   ]
  },
  {
   "cell_type": "code",
   "execution_count": 91,
   "metadata": {},
   "outputs": [
    {
     "name": "stderr",
     "output_type": "stream",
     "text": [
      "/home/urwa/miniconda3/envs/gpd/lib/python2.7/site-packages/ipykernel_launcher.py:1: SettingWithCopyWarning: \n",
      "A value is trying to be set on a copy of a slice from a DataFrame.\n",
      "Try using .loc[row_indexer,col_indexer] = value instead\n",
      "\n",
      "See the caveats in the documentation: http://pandas.pydata.org/pandas-docs/stable/indexing.html#indexing-view-versus-copy\n",
      "  \"\"\"Entry point for launching an IPython kernel.\n"
     ]
    },
    {
     "data": {
      "text/plain": [
       "False    371730\n",
       "True      55796\n",
       "Name: ads18_drinkbinge, dtype: int64"
      ]
     },
     "execution_count": 91,
     "metadata": {},
     "output_type": "execute_result"
    }
   ],
   "source": [
    "comDF['ads18_drinkbinge'] = (comDF['BINGE DRINKING CALCULATED VARIABLE']=='Yes') \n",
    "comDF['ads18_drinkbinge'].value_counts()\n"
   ]
  },
  {
   "cell_type": "code",
   "execution_count": 92,
   "metadata": {},
   "outputs": [
    {
     "name": "stderr",
     "output_type": "stream",
     "text": [
      "/home/urwa/miniconda3/envs/gpd/lib/python2.7/site-packages/ipykernel_launcher.py:1: SettingWithCopyWarning: \n",
      "A value is trying to be set on a copy of a slice from a DataFrame.\n",
      "Try using .loc[row_indexer,col_indexer] = value instead\n",
      "\n",
      "See the caveats in the documentation: http://pandas.pydata.org/pandas-docs/stable/indexing.html#indexing-view-versus-copy\n",
      "  \"\"\"Entry point for launching an IPython kernel.\n"
     ]
    }
   ],
   "source": [
    "comDF['ads18_fruitIntake'] = comDF['COMPUTED FRUIT INTAKE IN TIMES PER DAY']\n",
    "#comDF['ads18_fruitIntake'].value_counts()\n"
   ]
  },
  {
   "cell_type": "code",
   "execution_count": 93,
   "metadata": {},
   "outputs": [
    {
     "name": "stderr",
     "output_type": "stream",
     "text": [
      "/home/urwa/miniconda3/envs/gpd/lib/python2.7/site-packages/ipykernel_launcher.py:1: SettingWithCopyWarning: \n",
      "A value is trying to be set on a copy of a slice from a DataFrame.\n",
      "Try using .loc[row_indexer,col_indexer] = value instead\n",
      "\n",
      "See the caveats in the documentation: http://pandas.pydata.org/pandas-docs/stable/indexing.html#indexing-view-versus-copy\n",
      "  \"\"\"Entry point for launching an IPython kernel.\n"
     ]
    }
   ],
   "source": [
    "comDF['ads18_vegIntake'] = comDF['COMPUTED DARK GREEN VEGETABLE INTAKE IN']"
   ]
  },
  {
   "cell_type": "code",
   "execution_count": 94,
   "metadata": {},
   "outputs": [
    {
     "name": "stderr",
     "output_type": "stream",
     "text": [
      "/home/urwa/miniconda3/envs/gpd/lib/python2.7/site-packages/ipykernel_launcher.py:1: SettingWithCopyWarning: \n",
      "A value is trying to be set on a copy of a slice from a DataFrame.\n",
      "Try using .loc[row_indexer,col_indexer] = value instead\n",
      "\n",
      "See the caveats in the documentation: http://pandas.pydata.org/pandas-docs/stable/indexing.html#indexing-view-versus-copy\n",
      "  \"\"\"Entry point for launching an IPython kernel.\n"
     ]
    }
   ],
   "source": [
    "comDF['ads18_potatoIntake'] = comDF['COMPUTED POTATO SERVINGS PER DAY']"
   ]
  },
  {
   "cell_type": "code",
   "execution_count": 95,
   "metadata": {},
   "outputs": [
    {
     "name": "stderr",
     "output_type": "stream",
     "text": [
      "/home/urwa/miniconda3/envs/gpd/lib/python2.7/site-packages/ipykernel_launcher.py:1: SettingWithCopyWarning: \n",
      "A value is trying to be set on a copy of a slice from a DataFrame.\n",
      "Try using .loc[row_indexer,col_indexer] = value instead\n",
      "\n",
      "See the caveats in the documentation: http://pandas.pydata.org/pandas-docs/stable/indexing.html#indexing-view-versus-copy\n",
      "  \"\"\"Entry point for launching an IPython kernel.\n"
     ]
    },
    {
     "data": {
      "text/plain": [
       "True     307893\n",
       "False    119633\n",
       "Name: ads18_exercise, dtype: int64"
      ]
     },
     "execution_count": 95,
     "metadata": {},
     "output_type": "execute_result"
    }
   ],
   "source": [
    "comDF['ads18_exercise'] = (comDF['150 MINUTE PHYSICAL ACTIVITY CALCULATED']!='0 minutes (or vigorous equivalent minutes) of physical activity') \n",
    "comDF['ads18_exercise'].value_counts()\n"
   ]
  },
  {
   "cell_type": "code",
   "execution_count": 96,
   "metadata": {},
   "outputs": [
    {
     "name": "stderr",
     "output_type": "stream",
     "text": [
      "/home/urwa/miniconda3/envs/gpd/lib/python2.7/site-packages/ipykernel_launcher.py:1: SettingWithCopyWarning: \n",
      "A value is trying to be set on a copy of a slice from a DataFrame.\n",
      "Try using .loc[row_indexer,col_indexer] = value instead\n",
      "\n",
      "See the caveats in the documentation: http://pandas.pydata.org/pandas-docs/stable/indexing.html#indexing-view-versus-copy\n",
      "  \"\"\"Entry point for launching an IPython kernel.\n"
     ]
    },
    {
     "data": {
      "text/plain": [
       "True     301186\n",
       "False    126340\n",
       "Name: ads18_hivtest, dtype: int64"
      ]
     },
     "execution_count": 96,
     "metadata": {},
     "output_type": "execute_result"
    }
   ],
   "source": [
    "comDF['ads18_hivtest'] = (comDF['EVER BEEN TESTED FOR HIV CALCULATED VARI']!='Yes') \n",
    "comDF['ads18_hivtest'].value_counts()"
   ]
  },
  {
   "cell_type": "code",
   "execution_count": 97,
   "metadata": {},
   "outputs": [
    {
     "data": {
      "text/plain": [
       "19"
      ]
     },
     "execution_count": 97,
     "metadata": {},
     "output_type": "execute_result"
    }
   ],
   "source": [
    "adscols = [c for c in comDF.columns if 'ads18' in c]\n",
    "len(adscols)"
   ]
  },
  {
   "cell_type": "code",
   "execution_count": 98,
   "metadata": {},
   "outputs": [
    {
     "name": "stdout",
     "output_type": "stream",
     "text": [
      "427526\n"
     ]
    }
   ],
   "source": [
    "engineeredData = comDF[adscols]\n",
    "print(len(engineeredData))\n",
    "engineeredData.to_csv('engineeredDataSmoke.csv')"
   ]
  },
  {
   "cell_type": "code",
   "execution_count": 32,
   "metadata": {},
   "outputs": [
    {
     "data": {
      "text/plain": [
       "(61934, 20)"
      ]
     },
     "execution_count": 32,
     "metadata": {},
     "output_type": "execute_result"
    }
   ],
   "source": [
    "engineeredData = pd.read_csv('engineeredData.csv')\n",
    "engineeredData.shape"
   ]
  },
  {
   "cell_type": "markdown",
   "metadata": {},
   "source": [
    "### Looking for other variables"
   ]
  },
  {
   "cell_type": "code",
   "execution_count": 99,
   "metadata": {},
   "outputs": [
    {
     "data": {
      "text/plain": [
       "['(EVER TOLD) YOU HAD ANY OTHER TYPES OF C',\n",
       " '(EVER TOLD) YOU HAD SKIN CANCER?',\n",
       " '(EVER TOLD) YOU HAVE (COPD) CHRONIC OBST',\n",
       " '(EVER TOLD) YOU HAVE DIABETES',\n",
       " '(EVER TOLD) YOU HAVE KIDNEY DISEASE?',\n",
       " '150 MINUTE PHYSICAL ACTIVITY CALCULATED',\n",
       " '300 MINUTE PHYSICAL ACTIVITY 2-LEVEL CAL',\n",
       " '300 MINUTE PHYSICAL ACTIVITY CALCULATED',\n",
       " 'ACTIVITIES LIMITED DUE TO ASTHMA DURING',\n",
       " 'ACTIVITY MET VALUE FOR FIRST ACTIVITY',\n",
       " 'ACTIVITY MET VALUE FOR SECOND ACTIVITY',\n",
       " 'ADLTCHLD',\n",
       " 'ADULT FLU SHOT/SPRAY PAST 12 MOS',\n",
       " 'ADULTS WITH GOOD OR BETTER HEALTH',\n",
       " 'AEROBIC AND STRENGTHENING (2-LEVEL)',\n",
       " 'AEROBIC AND STRENGTHENING GUIDELINE',\n",
       " 'AGE',\n",
       " 'AGE AT ASTHMA DIAGNOSIS',\n",
       " 'AGE TOLD HAD CANCER',\n",
       " 'AGE WHEN TOLD DIABETIC',\n",
       " 'ALWAYS OR NEARLY ALWAYS WEAR SEAT BELTS',\n",
       " 'ALWAYS WEAR SEAT BELTS',\n",
       " 'ANNUAL SEQUENCE NUMBER',\n",
       " 'ANY FIREARMS IN HOME',\n",
       " 'ANY FIREARMS LOADED',\n",
       " 'ANY LOADED FIREARMS ALSO UNLOCKED',\n",
       " 'ARE YOU 18 YEARS OF AGE OR OLDER?',\n",
       " 'ARE YOU 18 YEARS OF AGE OR OLDER?.1',\n",
       " 'ARE YOU A VETERAN',\n",
       " 'ARE YOU DEAF OR DO YOU HAVE SERIOUS DIFF',\n",
       " 'ASKED DURING CHECKUP IF YOU DRINK ALCHOH',\n",
       " 'ASKED IN PERSON OR BY FORM HOW MUCH YOU',\n",
       " 'ASKED WHETHER YOU DRANK [5 FOR MEN /4 FO',\n",
       " 'ASTHMA DURING PAST 12 MONTHS',\n",
       " 'ASTHMA SYMPTOMS DURING PAST 30 DAYS',\n",
       " 'AVG ALCOHOLIC DRINKS PER DAY IN PAST 30',\n",
       " 'BINGE DRINKING',\n",
       " 'BINGE DRINKING CALCULATED VARIABLE',\n",
       " 'BLIND OR DIFFICULTY SEEING',\n",
       " 'CALCULATED NON-HISPANIC RACE INCLUDING M',\n",
       " 'CALLBACK',\n",
       " 'CALLBCKZ',\n",
       " 'CELLULAR TELEPHONE',\n",
       " 'CHANGE EATING HABITS FOR BP?',\n",
       " 'CHILD HISPANIC, LATINO/A, OR SPANISH ORI',\n",
       " 'CHILD NON-HISPANIC RACE INCLUDING MULTIR',\n",
       " 'CHILD STILL HAVE ASTHMA?',\n",
       " 'CHILDAGE',\n",
       " 'CHOLESTEROL CHECKED CALCULATED VARIABLE',\n",
       " 'COMPUTED ASTHMA STATUS',\n",
       " 'COMPUTED BODY MASS INDEX',\n",
       " 'COMPUTED BODY MASS INDEX CATEGORIES',\n",
       " 'COMPUTED DARK GREEN VEGETABLE INTAKE IN',\n",
       " 'COMPUTED DRINK-OCCASIONS-PER-DAY',\n",
       " 'COMPUTED E-CIGARETTE USER STATUS',\n",
       " 'COMPUTED FIVE LEVEL RACE/ETHNICITY CATEG',\n",
       " 'COMPUTED FRUIT INTAKE IN TIMES PER DAY',\n",
       " 'COMPUTED FRUIT JUICE INTAKE IN TIMES PER',\n",
       " 'COMPUTED HEIGHT IN INCHES',\n",
       " 'COMPUTED HEIGHT IN METERS',\n",
       " 'COMPUTED INCOME CATEGORIES',\n",
       " 'COMPUTED LEVEL OF EDUCATION COMPLETED CA',\n",
       " 'COMPUTED MENTAL HEALTH STATUS',\n",
       " 'COMPUTED NON-HISPANIC WHITES/ALL OTHERS',\n",
       " 'COMPUTED NUMBER OF CHILDREN IN HOUSEHOLD',\n",
       " 'COMPUTED NUMBER OF DRINKS OF ALCOHOL BEV',\n",
       " 'COMPUTED OTHER VEGETABLE INTAKE IN TIMES',\n",
       " 'COMPUTED PHYSICAL HEALTH STATUS',\n",
       " 'COMPUTED POTATO SERVINGS PER DAY',\n",
       " 'COMPUTED PREFERRED RACE',\n",
       " 'COMPUTED RACE GROUPS USED FOR INTERNET P',\n",
       " 'COMPUTED RACE-ETHNICITY GROUPING',\n",
       " 'COMPUTED SMOKING STATUS',\n",
       " 'COMPUTED WEIGHT IN KILOGRAMS',\n",
       " 'CONSUME FRUIT 1 OR MORE TIMES PER DAY',\n",
       " 'CONSUME VEGETABLES 1 OR MORE TIMES PER D',\n",
       " 'CORRECT PHONE NUMBER?',\n",
       " 'CORRECT TELEPHONE NUMBER?',\n",
       " 'COULD NOT GET MEDICINE DUE TO COST',\n",
       " 'COULD NOT SEE DR. BECAUSE OF COST',\n",
       " 'CURRENT ASTHMA CALCULATED VARIABLE',\n",
       " 'CURRENTLY HAVE HEALTH CARE BILLS',\n",
       " 'CURRENTLY HAVE PHYSICAL PAIN FROM CANCER',\n",
       " 'CURRENTLY RECEIVING TREATMENT FOR CANCER',\n",
       " 'CURRENTLY TAKING BLOOD PRESSURE MEDICATI',\n",
       " 'CURRENTLY TAKING MEDICINE FOR HIGH CHOLE',\n",
       " 'DAYS HAD TROUBLE WITH SLEEP',\n",
       " 'DAYS IN PAST 30 HAD ALCOHOLIC BEVERAGE',\n",
       " 'DAYS USED PRESCRIBED PREVENTATIVE ASTHMA',\n",
       " 'DELAYED GETTING MEDICAL CARE',\n",
       " 'DELAYED GETTING MEDICAL CARE OTHER RESPO',\n",
       " 'DESIGN WEIGHT USED IN RAKING',\n",
       " 'DID HEALTH INSURANCE PAY FOR ALL OF YOUR',\n",
       " 'DID YOU COUGH UP PHLEGM?',\n",
       " 'DID YOU DO ANYTHING TO KEEP FROM GETTING',\n",
       " 'DID YOU HAVE A COUGH?',\n",
       " 'DID YOU HAVE A CT OR CAT SCAN?',\n",
       " 'DID YOU HAVE SHORTNESS OF BREATH?',\n",
       " 'DID YOU RECEIVE A SUMMARY OF CANCER TREA',\n",
       " 'DIFFICULTY CONCENTRATING OR REMEMBERING',\n",
       " 'DIFFICULTY DOING ERRANDS ALONE',\n",
       " 'DIFFICULTY DRESSING OR BATHING',\n",
       " 'DIFFICULTY WALKING OR CLIMBING STAIRS',\n",
       " 'DO ANY HIGH RISK SITUATIONS APPLY',\n",
       " 'DO YOU ALSO HAVE A LANDLINE TELEPHONE?',\n",
       " 'DO YOU CONSIDER YOURSELF TO BE TRANSGEND',\n",
       " 'DO YOU CURRENTLY LIVE IN  ____(STATE)___',\n",
       " 'DO YOU EXPECT TO HAVE A RELATIVE YOU WIL',\n",
       " 'DO YOU HAVE A CELL PHONE FOR PERSONAL US',\n",
       " 'DO YOU HAVE MEDICARE?',\n",
       " 'DO YOU LIVE IN A PRIVATE RESIDENCE?',\n",
       " 'DO YOU LIVE IN COLLEGE HOUSING?',\n",
       " 'DO YOU LIVE IN COLLEGE HOUSING?.1',\n",
       " 'DO YOU NOW USE E-CIGARETTES, EVERY DAY,',\n",
       " 'DOCTOR ADVISED REDUCED SODIUM/SALT INTAK',\n",
       " 'DOCTOR VISITS PAST 12 MONTHS',\n",
       " 'DOES ARTHRITIS AFFECT WHETHER YOU WORK',\n",
       " 'DOES CONFUSION OR MEMORY LOSS INTERFERE',\n",
       " 'DR. SUGGEST LOSE WEIGHT FOR ARTHRITIS OR',\n",
       " 'DR. SUGGEST USE OF PHYSICAL ACTIVITY OR',\n",
       " 'DRINK ANY ALCOHOLIC BEVERAGES IN PAST 30',\n",
       " 'DUAL PHONE USE CATEGORIES',\n",
       " 'DUAL PHONE USE CORRECTION FACTOR',\n",
       " 'DURING THE PAST 30 DAYS, HOW DID YOU PRI',\n",
       " 'DURING THE PAST 30 DAYS, ON HOW MANY DAY',\n",
       " 'EDUCATION LEVEL',\n",
       " 'EMERGENCY ASTHMA CARE DURING PAST 12 MON',\n",
       " 'EMPLOYMENT STATUS',\n",
       " 'ESTIMATED ACTIVITY INTENSITY FOR FIRST A',\n",
       " 'ESTIMATED ACTIVITY INTENSITY FOR SECOND',\n",
       " 'ESTIMATED AGE-GENDER SPECIFIC MAXIMUM OX',\n",
       " 'ESTIMATED FUNCTIONAL CAPACITY',\n",
       " 'EVER BEEN TESTED FOR HIV CALCULATED VARI',\n",
       " 'EVER BEEN TOLD YOU HAVE PRE-DIABETES OR',\n",
       " 'EVER DENIED INSURANCE COVERAGE BECAUSE O',\n",
       " 'EVER DIAGNOSED WITH A STROKE',\n",
       " 'EVER DIAGNOSED WITH ANGINA OR CORONARY H',\n",
       " 'EVER DIAGNOSED WITH HEART ATTACK',\n",
       " 'EVER HAD THE HPV VACCINATION?',\n",
       " 'EVER RECEIVE INSTRUCTIONS FROM A DOCTOR',\n",
       " 'EVER TAKEN CLASS IN MANAGING ARTHRITIS O',\n",
       " 'EVER TAKEN CLASS IN MANAGING DIABETES',\n",
       " 'EVER TESTED HIV',\n",
       " 'EVER TOLD BLOOD CHOLESTEROL HIGH',\n",
       " 'EVER TOLD BLOOD PRESSURE HIGH',\n",
       " 'EVER TOLD DIABETES HAS AFFECTED EYES',\n",
       " 'EVER TOLD HAD ASTHMA',\n",
       " 'EVER TOLD YOU HAD A DEPRESSIVE DISORDER',\n",
       " 'EXERCISE IN PAST 30 DAYS',\n",
       " 'EXERCISING TO LOWER BP?',\n",
       " 'FILE MONTH',\n",
       " 'FINAL CHILD WEIGHT: LAND-LINE AND CELL-P',\n",
       " 'FINAL DISPOSITION',\n",
       " 'FINAL WEIGHT: LAND-LINE AND CELL-PHONE D',\n",
       " 'FLU SHOT CALCULATED VARIABLE',\n",
       " 'FRENCH FRY INTAKE IN TIMES PER DAY',\n",
       " 'FREQUENCY OF DAYS NOW SMOKING',\n",
       " 'FRUIT EXCLUSION FROM ANALYSES',\n",
       " 'GENDER OF CHILD',\n",
       " 'GENERAL HEALTH',\n",
       " 'GIVEN UP DAY-TO-DAY CHORES DUE TO CONFUS',\n",
       " 'HAD A TEST FOR HIGH BLOOD SUGAR IN PAST',\n",
       " 'HAS ANYONE EVER OBSERVED THAT YOU STOP B',\n",
       " 'HAVE ANY HEALTH CARE COVERAGE',\n",
       " 'HAVE YOU DISCUSSED YOUR CONFUSION OR MEM',\n",
       " 'HAVE YOU EVER BEEN GIVEN A BREATHING TES',\n",
       " 'HAVE YOU EVER BEEN TOLD THAT YOU SNORE L',\n",
       " 'HAVE YOU EVER HAD THE SHINGLES OR ZOSTER',\n",
       " 'HAVE YOU EVER USED AN E-CIGARETTE OR OTH',\n",
       " 'HAVE YOU EXPERIENCED CONFUSION OR MEMORY',\n",
       " 'HEALTH MAKES TAKING ASPIRIN UNSAFE',\n",
       " 'HEAVY ALCOHOL CONSUMPTION  CALCULATED VA',\n",
       " 'HIGH BLOOD PRESSURE CALCULATED VARIABLE',\n",
       " 'HIGH CHOLESTEROL CALCULATED VARIABLE',\n",
       " 'HISPANIC, LATINO/A, OR SPANISH ORIGIN CA',\n",
       " 'HLTH CARE PRO EVER ADVISED CHANGE IN EAT',\n",
       " 'HLTH CARE PRO EVER ADVISED EXERCISE TO R',\n",
       " 'HLTH CARE PRO EVER ADVISED MEDS TO REDUC',\n",
       " 'HLTH CARE PRO EVER ADVISED REDUCED ALCOH',\n",
       " 'HLTH CARE PRO EVER ADVISED USING LESS SA',\n",
       " 'HLTH PRO EVER SAID CHILD HAS ASTHMA',\n",
       " 'HOUSEHOLD TELEPHONES',\n",
       " 'HOW BAD WAS JOINT PAIN',\n",
       " 'HOW DO YOUR FINANCES USUALLY WORK OUT AT',\n",
       " 'HOW LONG PROVIDED CARE FOR PERSON.',\n",
       " 'HOW LONG SINCE CHOLESTEROL CHECKED',\n",
       " 'HOW MANY DAYS DEPRESSED IN PAST 30 DAYS',\n",
       " 'HOW MANY DAYS FELT ANXIOUS IN PAST 30 DA',\n",
       " 'HOW MANY DAYS FULL OF ENERGY IN PAST 30',\n",
       " 'HOW MANY DAYS HARD TO DO USUAL ACTIVITIE',\n",
       " 'HOW MANY HOURS DO YOU PROVIDE CARE FOR P',\n",
       " 'HOW MANY TIMES DID YOU DO PHYSICAL ACTIV',\n",
       " 'HOW MANY TIMES DID YOU DRINK 100 PERCENT',\n",
       " 'HOW MANY TIMES DID YOU EAT DARK GREEN VE',\n",
       " 'HOW MANY TIMES DID YOU EAT FRUIT?',\n",
       " 'HOW MANY TIMES HAVE YOU MOVED?',\n",
       " 'HOW MANY TIMES WALKING, RUNNING, JOGGING',\n",
       " 'HOW MANY TIMES WALKING, RUNNING, JOGGING.1',\n",
       " 'HOW MANY TYPES OF CANCER?',\n",
       " 'HOW MANY YEARS HAVE YOU SMOKED TOBACCO P',\n",
       " 'HOW MUCH TIME DO YOU SLEEP',\n",
       " 'HOW OFTEN CHECK BLOOD FOR GLUCOSE',\n",
       " 'HOW OFTEN CHECK FEET FOR SORES OR IRRITA',\n",
       " 'HOW OFTEN DID YOU DRINK REGULAR SODA OR',\n",
       " 'HOW OFTEN DID YOU DRINK SUGAR-SWEETENED',\n",
       " 'HOW OFTEN DO YOU EAT FRENCH FRIES OR FRI',\n",
       " 'HOW OFTEN DO YOU EAT FRENCH FRIES OR FRI.1',\n",
       " 'HOW OFTEN DO YOU EAT FRENCH FRIES OR FRI.2',\n",
       " 'HOW OFTEN GET EMOTIONAL SUPPORT NEEDED',\n",
       " 'HOW OFTEN HAVE YOU FELT THIS KIND OF STR',\n",
       " 'HOW OFTEN USE SEATBELTS IN CAR?',\n",
       " 'HOW OLD WHEN YOU FIRST STARTED SMOKING?',\n",
       " 'HOW OLD WHEN YOU LAST SMOKED?',\n",
       " 'IMPUTED AGE IN SIX GROUPS',\n",
       " 'IMPUTED AGE VALUE COLLAPSED ABOVE 80',\n",
       " 'IMPUTED RACE/ETHNICITY VALUE',\n",
       " 'INCOME LEVEL',\n",
       " 'INSTRUCTIONS WRITTEN OR PRINTED',\n",
       " 'INTERNET USE IN THE PAST 30 DAYS?',\n",
       " 'INTERVAL SINCE LAST SMOKED',\n",
       " 'INTERVIEW DATE',\n",
       " 'INTERVIEW DAY',\n",
       " 'INTERVIEW MONTH',\n",
       " 'INTERVIEW YEAR',\n",
       " 'IS PAIN UNDER CONTROL?',\n",
       " 'IS THIS A CELL TELEPHONE?',\n",
       " 'LANGUAGE IDENTIFIER',\n",
       " 'LAST EYE EXAM WHERE PUPILS WERE DILATED',\n",
       " 'LEISURE TIME PHYSICAL ACTIVITY CALCULATE',\n",
       " 'LENGTH OF TIME SINCE LAST ROUTINE CHECKU',\n",
       " 'LIFETIME ASTHMA CALCULATED VARIABLE',\n",
       " 'LIMITED BECAUSE OF JOINT SYMPTOMS',\n",
       " 'LIMITED SOCIAL ACTIVITIES',\n",
       " 'LIMITED USUAL ACTIVITIES',\n",
       " 'LIMITED WORK ACTIVITIES',\n",
       " 'MANAGED HOUSEHOLD TASKS',\n",
       " 'MANAGED PERSONAL CARE',\n",
       " 'MARITAL STATUS',\n",
       " 'METROPOLITAN STATUS CODE',\n",
       " 'MINUTES OF FIRST ACTIVITY',\n",
       " 'MINUTES OF PHYSICAL ACTIVITY PER WEEK FO',\n",
       " 'MINUTES OF PHYSICAL ACTIVITY PER WEEK FO.1',\n",
       " 'MINUTES OF PHYSICAL ACTIVITY PER WEEK FO.2',\n",
       " 'MINUTES OF PHYSICAL ACTIVITY PER WEEK FO.3',\n",
       " 'MINUTES OF SECOND ACTIVITY',\n",
       " 'MINUTES OF TOTAL PHYSICAL ACTIVITY PER W',\n",
       " 'MINUTES OF TOTAL VIGOROUS PHYSICAL ACTIV',\n",
       " 'MINUTES OF VIGOROUS PHYSICAL ACTIVITY PE',\n",
       " 'MINUTES OF VIGOROUSPHYSICAL ACTIVITY PER',\n",
       " 'MINUTES OR HOURS WALKING, RUNNING, JOGGI',\n",
       " 'MINUTES OR HOURS WALKING, RUNNING, JOGGI.1',\n",
       " 'MISSING ANY FRUIT RESPONSES',\n",
       " 'MISSING ANY VEGETABLE RESPONSES',\n",
       " 'MISSING PHYSICAL ACTIVITY DATA',\n",
       " 'MONTH AND YEAR OF LAST HIV TEST',\n",
       " 'MOST DRINKS ON SINGLE OCCASION PAST 30 D',\n",
       " 'MULTIPLE HEALTH CARE PROFESSIONALS',\n",
       " 'MUSCLE STRENGTHENING RECOMMENDATION',\n",
       " 'NAMTRIBE',\n",
       " 'NEED ASSISTANCE WITH DAY-TO_DAY ACTIVITI',\n",
       " 'NEIGHBORHOOD SAFE FROM CRIME',\n",
       " 'NO MONEY FOR BALANCED MEALS?',\n",
       " 'NO MONEY FOR FOOD?',\n",
       " 'NOW TAKING INSULIN',\n",
       " 'NUMBER OF ADULT MEN IN HOUSEHOLD',\n",
       " 'NUMBER OF ADULT WOMEN IN HOUSEHOLD',\n",
       " 'NUMBER OF ADULTS IN HOUSEHOLD',\n",
       " 'NUMBER OF ADULTS IN HOUSEHOLD.1',\n",
       " 'NUMBER OF CHILDREN IN HOUSEHOLD',\n",
       " 'NUMBER OF DAYS MENTAL HEALTH NOT GOOD',\n",
       " 'NUMBER OF DAYS PHYSICAL HEALTH NOT GOOD',\n",
       " 'NUMBER OF HPV SHOTS RECEIVED',\n",
       " 'OFFERED ADVICE ABOUT WHAT LEVEL OF DRINK',\n",
       " 'ON AVERAGE, HOW MANY CIGARETTES DO YOU S',\n",
       " 'ORACE3',\n",
       " 'OTHER TYPE OF PHYSICAL ACTIVITY GIVING M',\n",
       " 'OUTPATIENT REHAB AFTER HEART ATTACK HOSP',\n",
       " 'OUTPATIENT REHAB AFTER HOSP STAY FOR STR',\n",
       " 'OVER THE LAST 2 WEEKS, HOW MANY DAYS DID',\n",
       " 'OVERWEIGHT OR OBESE CALCULATED VARIABLE',\n",
       " 'OWN OR RENT HOME',\n",
       " 'PARTICIPATE IN CLINICAL TRIAL AS PART OF',\n",
       " 'PHYSICAL ACTIVITY CATEGORIES',\n",
       " 'PHYSICAL ACTIVITY FREQUENCY PER WEEK FOR',\n",
       " 'PHYSICAL ACTIVITY FREQUENCY PER WEEK FOR.1',\n",
       " 'PHYSICAL ACTIVITY INDEX',\n",
       " 'PNEUMONIA SHOT EVER',\n",
       " 'PNEUMONIA VACCINATION CALCULATED VARIABL',\n",
       " 'POOR PHYSICAL OR MENTAL HEALTH',\n",
       " 'PRECALL',\n",
       " 'PREFERRED CHILD RACE CATEGORIES',\n",
       " 'PREGNANCY STATUS',\n",
       " 'PRIMARY HEALTH INSURANCE COVERAGE',\n",
       " 'PRIMARY SAMPLING UNIT',\n",
       " 'PRIVATE RESIDENCE?',\n",
       " 'PROVIDED REGULAR CARE FOR FAMILY OR FRIE',\n",
       " 'QUESTIONNAIRE VERSION IDENTIFIER',\n",
       " 'RAW WEIGHTING FACTOR USED IN RAKING',\n",
       " 'RCSBRAC2',\n",
       " 'RECEIVED TETANUS SHOT SINCE 2005?',\n",
       " 'REDUCE ALCOHOL USE FOR BP?',\n",
       " 'REDUCE SALT INTAKE TO LOWER BP?',\n",
       " 'RELATIONSHIP OF PERSON TO WHOM YOU ARE G',\n",
       " 'RELATIONSHIP TO CHILD',\n",
       " 'REPORTED AGE IN FIVE-YEAR AGE CATEGORIES',\n",
       " 'REPORTED AGE IN TWO AGE GROUPS CALCULATE',\n",
       " 'REPORTED CONSUMING FRUIT >16/DAY',\n",
       " 'REPORTED CONSUMING VEGETABLES >23/DAY',\n",
       " 'REPORTED HEIGHT IN FEET AND INCHES',\n",
       " 'REPORTED WEIGHT IN POUNDS',\n",
       " 'RESIDENT OF STATE',\n",
       " 'RESIDENTIAL PHONES',\n",
       " 'RESPONDENTS AGED 18-64 WITH HEALTH CARE',\n",
       " 'RESPONDENTS DIAGNOSED WITH ARTHRITIS',\n",
       " 'RESPONDENTS SEX',\n",
       " 'RESPONDENTS THAT HAVE EVER REPORTED HAVI',\n",
       " 'ROUTINE ASTHMA CARE DURING PAST 12 MONTH',\n",
       " 'RSNMRJNA',\n",
       " 'RSPSTAT1',\n",
       " 'SAFE TIME TO TALK?',\n",
       " 'SAMPLE DESIGN STRATIFICATION VARIABLE',\n",
       " 'SATISFACTION WITH LIFE',\n",
       " 'SATISFIED WITH CARE RECEIVED',\n",
       " 'SECSCRFL',\n",
       " 'SEXUAL ORIENTATION OR GENDER IDENTITY',\n",
       " 'SLEEP DIFFICULTY DUE TO ASTHMA DURING PA',\n",
       " 'SMOKED AT LEAST 100 CIGARETTES',\n",
       " 'SOCIAL ACTIVITIES LIMITED BECAUSE OF JOI',\n",
       " 'STATE FIPS CODE',\n",
       " 'STILL HAVE ASTHMA',\n",
       " 'STOPPED SMOKING IN PAST 12 MONTHS',\n",
       " 'STRATUM WEIGHT',\n",
       " 'STRENGTH ACTIVITY FREQUENCY PER WEEK',\n",
       " 'TAKE ASPIRIN DAILY OR EVERY OTHER DAY',\n",
       " 'TAKE ASPIRIN TO REDUCE CHANCE OF HEART A',\n",
       " 'TAKE ASPIRIN TO REDUCE CHANCE OF STROKE',\n",
       " 'TAKE ASPIRIN TO RELIEVE PAIN',\n",
       " 'THE NUMBER OF MISSING FRUIT RESPONSES',\n",
       " 'THE NUMBER OF MISSING VEGETABLE RESPONSE',\n",
       " 'TIME SINCE LAST HAD HEALTH CARE COVERAGE',\n",
       " 'TIMES CHECKED FOR GLYCOSYLATED HEMOGLOBI',\n",
       " 'TIMES FEET CHECK FOR SORES/IRRITATIONS',\n",
       " 'TIMES SEEN HEALTH PROFESSIONAL FOR DIABE',\n",
       " 'TIMES USED ASTHMA INHALER DURING AN ATTA',\n",
       " 'TOLD HAD HIGH BP DURING 2+ VISITS TO HLT',\n",
       " 'TOLD HAVE ARTHRITIS',\n",
       " 'TOTAL FRUITS CONSUMED PER DAY',\n",
       " 'TOTAL VEGETABLES CONSUMED PER DAY',\n",
       " 'TRUNCATED DESIGN WEIGHT USED IN ADULT CO',\n",
       " 'TYPE OF CANCER',\n",
       " 'TYPE OF PHYSICAL ACTIVITY',\n",
       " 'URGENT ASTHMA TREATMENT DURING PAST 12 M',\n",
       " 'USE OF SMOKELESS TOBACCO PRODUCTS',\n",
       " 'VEGETABLE EXCLUSION FROM ANALYSES',\n",
       " 'WATCHING SODIUM OR SALT INTAKE',\n",
       " 'WDHOWOFT',\n",
       " 'WDSHARE',\n",
       " 'WDUSENOW',\n",
       " 'WERE YOU ADVISED TO REDUCE OR QUIT YOUR',\n",
       " 'WERE YOU NOT ABLE TO PAY YOUR BILLS?',\n",
       " 'WHAT CAN YOU DO BECAUSE OF ARTHRITIS OR',\n",
       " 'WHAT DID YOU DO TO KEEP YOU FROM GETTING',\n",
       " 'WHAT IS THE MAJOR HEALTH PROBLEM, ILLNES',\n",
       " 'WHAT TYPE OF DOCTOR PROVIDES MAJORITY OF',\n",
       " 'WHAT WAS MAIN REASON FOR NOT DOING ANYTH',\n",
       " 'WHEN RECEIVED MOST RECENT SEASONAL FLU S',\n",
       " 'WHEN YOU NEED HELP WITH DAY-TO-DAY ACTIV',\n",
       " 'WHERE DID YOU GET YOUR LAST FLU SHOT/VAC',\n",
       " 'WHICH SUPPORT DO YOU MOST NEED THAT YOU',\n",
       " 'WITHOUT HEALTH CARE COVERAGE PAST 12 MON',\n",
       " '_DENSTR2',\n",
       " '_IMPAGE',\n",
       " '_IMPCAGE',\n",
       " '_IMPCRAC',\n",
       " '_IMPCSEX',\n",
       " '_IMPEDUC',\n",
       " '_IMPHOME',\n",
       " '_IMPMRTL',\n",
       " '_IMPNPH',\n",
       " '_IMPSEX',\n",
       " '_M_RACE',\n",
       " '_URBNRRL',\n",
       " 'esmoke',\n",
       " 'label',\n",
       " 'smoke']"
      ]
     },
     "execution_count": 99,
     "metadata": {},
     "output_type": "execute_result"
    }
   ],
   "source": [
    "filterList = ['age', 'gender', 'male', 'female','sex','height'] + ['label']\n",
    "othercols = sorted([c for c in df.columns])\n",
    "othercols"
   ]
  },
  {
   "cell_type": "code",
   "execution_count": 14,
   "metadata": {
    "scrolled": true
   },
   "outputs": [
    {
     "data": {
      "text/plain": [
       "Florida                 3647\n",
       "Kansas                  3083\n",
       "Indiana                 2187\n",
       "Minnesota               2181\n",
       "Ohio                    1998\n",
       "Nebraska                1981\n",
       "Arizona                 1948\n",
       "Kentucky                1672\n",
       "Michigan                1617\n",
       "South Carolina          1592\n",
       "New York                1525\n",
       "Washington              1509\n",
       "Texas                   1432\n",
       "Maryland                1423\n",
       "New Jersey              1390\n",
       "Maine                   1300\n",
       "Missouri                1283\n",
       "Virginia                1264\n",
       "South Dakota            1168\n",
       "West Virginia           1134\n",
       "Tennessee               1123\n",
       "Colorado                1115\n",
       "Iowa                    1101\n",
       "Alabama                 1076\n",
       "Connecticut             1053\n",
       "Pennsylvania            1042\n",
       "North Dakota            1034\n",
       "Oklahoma                 975\n",
       "California               968\n",
       "Montana                  956\n",
       "New Mexico               948\n",
       "Hawaii                   939\n",
       "Utah                     897\n",
       "Louisiana                889\n",
       "Georgia                  841\n",
       "Vermont                  823\n",
       "Wisconsin                821\n",
       "Mississippi              792\n",
       "Arkansas                 779\n",
       "North Carolina           754\n",
       "Massachusetts            748\n",
       "Oregon                   707\n",
       "Rhode Island             687\n",
       "Illinois                 675\n",
       "New Hampshire            662\n",
       "District of Columbia     647\n",
       "Wyoming                  626\n",
       "Nevada                   566\n",
       "Delaware                 562\n",
       "Idaho                    550\n",
       "Alaska                   514\n",
       "Puerto Rico              400\n",
       "Guam                     330\n",
       "Name: STATE FIPS CODE, dtype: int64"
      ]
     },
     "execution_count": 14,
     "metadata": {},
     "output_type": "execute_result"
    }
   ],
   "source": [
    "df['STATE FIPS CODE'].value_counts()"
   ]
  },
  {
   "cell_type": "code",
   "execution_count": 15,
   "metadata": {
    "scrolled": true
   },
   "outputs": [
    {
     "name": "stdout",
     "output_type": "stream",
     "text": [
      "Column : STATE FIPS CODE\n"
     ]
    },
    {
     "name": "stderr",
     "output_type": "stream",
     "text": [
      "/home/urwa/miniconda3/envs/gpd/lib/python2.7/site-packages/ipykernel_launcher.py:11: FutureWarning: Sorting because non-concatenation axis is not aligned. A future version\n",
      "of pandas will change to not sort by default.\n",
      "\n",
      "To accept the future behavior, pass 'sort=False'.\n",
      "\n",
      "To retain the current behavior and silence the warning, pass 'sort=True'.\n",
      "\n",
      "  # This is added back by InteractiveShellApp.init_path()\n"
     ]
    },
    {
     "name": "stdout",
     "output_type": "stream",
     "text": [
      "                        esmoke     smoke\n",
      "Alabama               1.372641  1.779443\n",
      "Alaska                0.405553  0.878915\n",
      "Arizona               4.227110  3.020370\n",
      "Arkansas              0.967088  1.291357\n",
      "California            2.417720  1.464258\n",
      "Colorado              2.651692  1.701997\n",
      "Connecticut           1.809390  1.687589\n",
      "Delaware              0.904695  0.907732\n",
      "District of Columbia  0.545937  1.102246\n",
      "Florida               6.379660  5.831817\n",
      "Georgia               1.450632  1.347189\n",
      "Guam                  0.639526  0.520505\n",
      "Hawaii                2.464514  1.406624\n",
      "Idaho                 0.951490  0.880716\n",
      "Illinois              1.169864  1.080633\n",
      "Indiana               3.197629  3.569692\n",
      "Iowa                  1.653408  1.792050\n",
      "Kansas                5.085010  4.965510\n",
      "Kentucky              2.230541  2.753814\n",
      "Louisiana             1.263453  1.455253\n",
      "Maine                 1.591015  2.157664\n",
      "Maryland              1.918577  2.341372\n",
      "Massachusetts         1.216659  1.206707\n",
      "Michigan              2.682889  2.602525\n",
      "Minnesota             3.493995  3.524665\n",
      "Mississippi           0.904695  1.321975\n",
      "Missouri              1.871783  2.094627\n",
      "Montana               1.201061  1.583128\n",
      "Nebraska              2.495710  3.279722\n",
      "Nevada                1.372641  0.860904\n",
      "New Hampshire         0.764311  1.104047\n",
      "New Jersey            2.526907  2.211696\n",
      "New Mexico            1.388239  1.547107\n",
      "New York              2.589300  2.447634\n",
      "North Carolina        1.154266  1.224718\n",
      "North Dakota          1.138668  1.730814\n",
      "Ohio                  2.838871  3.270717\n",
      "Oklahoma              2.168148  1.505682\n",
      "Oregon                1.310248  1.122058\n",
      "Pennsylvania          1.435034  1.711003\n",
      "Puerto Rico           0.202776  0.697008\n",
      "Rhode Island          1.513024  1.062623\n",
      "South Carolina        2.230541  2.609729\n",
      "South Dakota          0.701919  2.022585\n",
      "Tennessee             1.731399  1.822668\n",
      "Texas                 2.339729  2.308953\n",
      "Utah                  3.540789  1.206707\n",
      "Vermont               0.889097  1.379608\n",
      "Virginia              2.058961  2.038795\n",
      "Washington            3.213227  2.346775\n",
      "West Virginia         1.403837  1.880302\n",
      "Wisconsin             1.263453  1.332781\n",
      "Wyoming               1.060677  1.004989\n"
     ]
    },
    {
     "data": {
      "image/png": "[encoded data removed]",
      "text/plain": [
       "<matplotlib.figure.Figure at 0x7f244945b310>"
      ]
     },
     "metadata": {
      "needs_background": "light"
     },
     "output_type": "display_data"
    }
   ],
   "source": [
    "\n",
    "col = 'STATE FIPS CODE'\n",
    "print(\"Column :\",col)\n",
    "s1 = df[df['label']==True][col].value_counts() \n",
    "s1 = s1 *100 / len(df[df['label']==True])\n",
    "#s1 = s1.astype(int)\n",
    "s2 = df[df['label']==False][col].value_counts() \n",
    "s2 = s2 *100 / len(df[df['label']==False])\n",
    "#s2 = s2.astype(int)\n",
    "\n",
    "vcountDF = pd.concat([s1, s2], axis=1)\n",
    "vcountDF.columns = ['esmoke','smoke']\n",
    "print(vcountDF)\n",
    "\n",
    "fig, ax = plt.subplots(figsize=(8,6))\n",
    "_=sns.barplot(vcountDF.index, vcountDF.esmoke-vcountDF.smoke,ax=ax).set_xticklabels(vcountDF.index,rotation=30)\n",
    "#sns.barplot(vcountDF.index, vcountDF.smoke,ax=ax)"
   ]
  },
  {
   "cell_type": "code",
   "execution_count": 100,
   "metadata": {},
   "outputs": [
    {
     "data": {
      "text/plain": [
       "False    238856\n",
       "True     188670\n",
       "Name: ads18_male, dtype: int64"
      ]
     },
     "execution_count": 100,
     "metadata": {},
     "output_type": "execute_result"
    }
   ],
   "source": [
    "df['ads18_male'] = (df['RESPONDENTS SEX']=='Male') \n",
    "df['ads18_male'].value_counts()"
   ]
  },
  {
   "cell_type": "code",
   "execution_count": 101,
   "metadata": {},
   "outputs": [
    {
     "data": {
      "text/plain": [
       "True     392684\n",
       "False     34842\n",
       "Name: ads18_healthCov, dtype: int64"
      ]
     },
     "execution_count": 101,
     "metadata": {},
     "output_type": "execute_result"
    }
   ],
   "source": [
    "df['ads18_healthCov'] = (df['HAVE ANY HEALTH CARE COVERAGE']=='Yes') \n",
    "df['ads18_healthCov'].value_counts()"
   ]
  },
  {
   "cell_type": "code",
   "execution_count": 102,
   "metadata": {},
   "outputs": [
    {
     "data": {
      "text/plain": [
       "True     333170\n",
       "False     94356\n",
       "Name: ads18_older40, dtype: int64"
      ]
     },
     "execution_count": 102,
     "metadata": {},
     "output_type": "execute_result"
    }
   ],
   "source": [
    "ageless40 = ['Imputed Age 35 to 39','Imputed Age 30 to 34','Imputed Age 25 to 29','Imputed Age 18 to 24' ]\n",
    "df['ads18_older40'] = (df['IMPUTED AGE VALUE COLLAPSED ABOVE 80'].apply(lambda x: x not in ageless40) ) \n",
    "df['ads18_older40'].value_counts()"
   ]
  },
  {
   "cell_type": "code",
   "execution_count": 103,
   "metadata": {},
   "outputs": [
    {
     "data": {
      "text/plain": [
       "False    402715\n",
       "True      24811\n",
       "Name: ads18_age18_25, dtype: int64"
      ]
     },
     "execution_count": 103,
     "metadata": {},
     "output_type": "execute_result"
    }
   ],
   "source": [
    "ageless25 = ['Imputed Age 18 to 24' ]\n",
    "df['ads18_age18_25'] = (df['IMPUTED AGE VALUE COLLAPSED ABOVE 80'].apply(lambda x: x in ageless25) ) \n",
    "df['ads18_age18_25'].value_counts()"
   ]
  },
  {
   "cell_type": "code",
   "execution_count": 104,
   "metadata": {},
   "outputs": [
    {
     "data": {
      "text/plain": [
       "False    406416\n",
       "True      21110\n",
       "Name: ads18_age25_30, dtype: int64"
      ]
     },
     "execution_count": 104,
     "metadata": {},
     "output_type": "execute_result"
    }
   ],
   "source": [
    "ageless25 = ['Imputed Age 25 to 29' ]\n",
    "df['ads18_age25_30'] = (df['IMPUTED AGE VALUE COLLAPSED ABOVE 80'].apply(lambda x: x in ageless25) ) \n",
    "df['ads18_age25_30'].value_counts()"
   ]
  },
  {
   "cell_type": "code",
   "execution_count": 105,
   "metadata": {},
   "outputs": [
    {
     "data": {
      "text/plain": [
       "True     359320\n",
       "False     68206\n",
       "Name: ads18_seatbelt, dtype: int64"
      ]
     },
     "execution_count": 105,
     "metadata": {},
     "output_type": "execute_result"
    }
   ],
   "source": [
    "df['ads18_seatbelt'] = (df['ALWAYS WEAR SEAT BELTS']=='Always Wear Seat Belt') \n",
    "df['ads18_seatbelt'].value_counts()"
   ]
  },
  {
   "cell_type": "code",
   "execution_count": 106,
   "metadata": {},
   "outputs": [
    {
     "data": {
      "text/plain": [
       "False    372308\n",
       "True      55218\n",
       "Name: ads18_veteran, dtype: int64"
      ]
     },
     "execution_count": 106,
     "metadata": {},
     "output_type": "execute_result"
    }
   ],
   "source": [
    "df['ads18_veteran'] = (df['ARE YOU A VETERAN']=='Yes') \n",
    "df['ads18_veteran'].value_counts()"
   ]
  },
  {
   "cell_type": "code",
   "execution_count": 107,
   "metadata": {},
   "outputs": [
    {
     "data": {
      "text/plain": [
       "True     381472\n",
       "False     46054\n",
       "Name: ads18_affordDoc, dtype: int64"
      ]
     },
     "execution_count": 107,
     "metadata": {},
     "output_type": "execute_result"
    }
   ],
   "source": [
    "df['ads18_affordDoc'] = (df['COULD NOT SEE DR. BECAUSE OF COST']=='No') \n",
    "df['ads18_affordDoc'].value_counts()"
   ]
  },
  {
   "cell_type": "code",
   "execution_count": 108,
   "metadata": {},
   "outputs": [
    {
     "data": {
      "text/plain": [
       "False    409473\n",
       "True      18053\n",
       "Name: ads18_stroke, dtype: int64"
      ]
     },
     "execution_count": 108,
     "metadata": {},
     "output_type": "execute_result"
    }
   ],
   "source": [
    "df['ads18_stroke'] = (df['EVER DIAGNOSED WITH A STROKE']=='Yes') \n",
    "df['ads18_stroke'].value_counts()"
   ]
  },
  {
   "cell_type": "code",
   "execution_count": 109,
   "metadata": {
    "scrolled": true
   },
   "outputs": [
    {
     "data": {
      "text/plain": [
       "Florida                 20843\n",
       "Kansas                  20462\n",
       "Minnesota               16318\n",
       "Nebraska                14723\n",
       "Arizona                 14584\n",
       "Indiana                 13085\n",
       "Washington              12663\n",
       "Maryland                12638\n",
       "Ohio                    11786\n",
       "Texas                   11543\n",
       "New York                11358\n",
       "New Jersey              11134\n",
       "South Carolina          10763\n",
       "Michigan                10455\n",
       "Connecticut              9937\n",
       "Utah                     9919\n",
       "Maine                    9257\n",
       "Virginia                 9211\n",
       "Colorado                 8844\n",
       "California               8621\n",
       "Kentucky                 8286\n",
       "Hawaii                   7362\n",
       "Missouri                 7328\n",
       "Iowa                     7323\n",
       "South Dakota             6800\n",
       "North Dakota             6692\n",
       "Massachusetts            6601\n",
       "Alabama                  6408\n",
       "Oklahoma                 6307\n",
       "Pennsylvania             6298\n",
       "New Mexico               6183\n",
       "Vermont                  6127\n",
       "Montana                  5757\n",
       "Georgia                  5667\n",
       "Wisconsin                5485\n",
       "Tennessee                5479\n",
       "New Hampshire            5449\n",
       "West Virginia            5346\n",
       "Rhode Island             5307\n",
       "Illinois                 5291\n",
       "Oregon                   5072\n",
       "Arkansas                 5032\n",
       "Mississippi              4758\n",
       "Idaho                    4702\n",
       "North Carolina           4700\n",
       "Louisiana                4469\n",
       "Puerto Rico              4447\n",
       "Wyoming                  4344\n",
       "District of Columbia     4326\n",
       "Delaware                 3916\n",
       "Nevada                   3625\n",
       "Alaska                   3057\n",
       "Guam                     1438\n",
       "Name: ads18_state, dtype: int64"
      ]
     },
     "execution_count": 109,
     "metadata": {},
     "output_type": "execute_result"
    }
   ],
   "source": [
    "df['ads18_state'] = df['STATE FIPS CODE']\n",
    "df['ads18_state'].value_counts()"
   ]
  },
  {
   "cell_type": "code",
   "execution_count": 110,
   "metadata": {},
   "outputs": [
    {
     "data": {
      "text/plain": [
       "11"
      ]
     },
     "execution_count": 110,
     "metadata": {},
     "output_type": "execute_result"
    }
   ],
   "source": [
    "adscols = [c for c in df.columns if 'ads18' in c]+['label']\n",
    "len(adscols)"
   ]
  },
  {
   "cell_type": "code",
   "execution_count": 111,
   "metadata": {},
   "outputs": [
    {
     "name": "stdout",
     "output_type": "stream",
     "text": [
      "427526\n"
     ]
    }
   ],
   "source": [
    "engineeredData2 = df[adscols]\n",
    "print(len(engineeredData2))\n",
    "#engineeredData.to_csv('engineeredData.csv')"
   ]
  },
  {
   "cell_type": "code",
   "execution_count": 112,
   "metadata": {},
   "outputs": [
    {
     "name": "stdout",
     "output_type": "stream",
     "text": [
      "427526\n",
      "30\n"
     ]
    }
   ],
   "source": [
    "engineeredDataAll = pd.concat([engineeredData, engineeredData2], axis=1)\n",
    "print(len(engineeredDataAll))\n",
    "print(len(engineeredDataAll.columns))"
   ]
  },
  {
   "cell_type": "code",
   "execution_count": 113,
   "metadata": {},
   "outputs": [],
   "source": [
    "engineeredDataAll.to_csv('cleanDataSmoke.csv',index=False)"
   ]
  },
  {
   "cell_type": "code",
   "execution_count": 114,
   "metadata": {},
   "outputs": [
    {
     "data": {
      "text/html": [
       "<div>\n",
       "<style scoped>\n",
       "    .dataframe tbody tr th:only-of-type {\n",
       "        vertical-align: middle;\n",
       "    }\n",
       "\n",
       "    .dataframe tbody tr th {\n",
       "        vertical-align: top;\n",
       "    }\n",
       "\n",
       "    .dataframe thead th {\n",
       "        text-align: right;\n",
       "    }\n",
       "</style>\n",
       "<table border=\"1\" class=\"dataframe\">\n",
       "  <thead>\n",
       "    <tr style=\"text-align: right;\">\n",
       "      <th></th>\n",
       "      <th>ads18_frequentHealthIssue</th>\n",
       "      <th>ads18_highBP</th>\n",
       "      <th>ads18_highChl</th>\n",
       "      <th>ads18_unknownChl</th>\n",
       "      <th>ads18_asthma</th>\n",
       "      <th>ads18_formerasthma</th>\n",
       "      <th>ads18_white</th>\n",
       "      <th>ads18_weight</th>\n",
       "      <th>ads18_obese</th>\n",
       "      <th>ads18_havechild</th>\n",
       "      <th>...</th>\n",
       "      <th>ads18_healthCov</th>\n",
       "      <th>ads18_older40</th>\n",
       "      <th>ads18_age18_25</th>\n",
       "      <th>ads18_age25_30</th>\n",
       "      <th>ads18_seatbelt</th>\n",
       "      <th>ads18_veteran</th>\n",
       "      <th>ads18_affordDoc</th>\n",
       "      <th>ads18_stroke</th>\n",
       "      <th>ads18_state</th>\n",
       "      <th>label</th>\n",
       "    </tr>\n",
       "  </thead>\n",
       "  <tbody>\n",
       "    <tr>\n",
       "      <th>0</th>\n",
       "      <td>False</td>\n",
       "      <td>True</td>\n",
       "      <td>True</td>\n",
       "      <td>False</td>\n",
       "      <td>False</td>\n",
       "      <td>False</td>\n",
       "      <td>True</td>\n",
       "      <td>7348.0</td>\n",
       "      <td>True</td>\n",
       "      <td>False</td>\n",
       "      <td>...</td>\n",
       "      <td>True</td>\n",
       "      <td>True</td>\n",
       "      <td>False</td>\n",
       "      <td>False</td>\n",
       "      <td>True</td>\n",
       "      <td>True</td>\n",
       "      <td>True</td>\n",
       "      <td>False</td>\n",
       "      <td>Alabama</td>\n",
       "      <td>No</td>\n",
       "    </tr>\n",
       "    <tr>\n",
       "      <th>1</th>\n",
       "      <td>False</td>\n",
       "      <td>True</td>\n",
       "      <td>False</td>\n",
       "      <td>False</td>\n",
       "      <td>False</td>\n",
       "      <td>False</td>\n",
       "      <td>True</td>\n",
       "      <td>9571.0</td>\n",
       "      <td>True</td>\n",
       "      <td>False</td>\n",
       "      <td>...</td>\n",
       "      <td>True</td>\n",
       "      <td>True</td>\n",
       "      <td>False</td>\n",
       "      <td>False</td>\n",
       "      <td>True</td>\n",
       "      <td>False</td>\n",
       "      <td>True</td>\n",
       "      <td>False</td>\n",
       "      <td>Alabama</td>\n",
       "      <td>No</td>\n",
       "    </tr>\n",
       "    <tr>\n",
       "      <th>2</th>\n",
       "      <td>False</td>\n",
       "      <td>False</td>\n",
       "      <td>True</td>\n",
       "      <td>False</td>\n",
       "      <td>False</td>\n",
       "      <td>False</td>\n",
       "      <td>True</td>\n",
       "      <td>8845.0</td>\n",
       "      <td>True</td>\n",
       "      <td>False</td>\n",
       "      <td>...</td>\n",
       "      <td>True</td>\n",
       "      <td>True</td>\n",
       "      <td>False</td>\n",
       "      <td>False</td>\n",
       "      <td>True</td>\n",
       "      <td>False</td>\n",
       "      <td>True</td>\n",
       "      <td>False</td>\n",
       "      <td>Alabama</td>\n",
       "      <td>No</td>\n",
       "    </tr>\n",
       "    <tr>\n",
       "      <th>3</th>\n",
       "      <td>False</td>\n",
       "      <td>True</td>\n",
       "      <td>True</td>\n",
       "      <td>False</td>\n",
       "      <td>False</td>\n",
       "      <td>False</td>\n",
       "      <td>True</td>\n",
       "      <td>7711.0</td>\n",
       "      <td>True</td>\n",
       "      <td>False</td>\n",
       "      <td>...</td>\n",
       "      <td>True</td>\n",
       "      <td>True</td>\n",
       "      <td>False</td>\n",
       "      <td>False</td>\n",
       "      <td>False</td>\n",
       "      <td>False</td>\n",
       "      <td>True</td>\n",
       "      <td>False</td>\n",
       "      <td>Alabama</td>\n",
       "      <td>No</td>\n",
       "    </tr>\n",
       "    <tr>\n",
       "      <th>4</th>\n",
       "      <td>True</td>\n",
       "      <td>False</td>\n",
       "      <td>False</td>\n",
       "      <td>False</td>\n",
       "      <td>True</td>\n",
       "      <td>False</td>\n",
       "      <td>True</td>\n",
       "      <td>6350.0</td>\n",
       "      <td>False</td>\n",
       "      <td>False</td>\n",
       "      <td>...</td>\n",
       "      <td>True</td>\n",
       "      <td>True</td>\n",
       "      <td>False</td>\n",
       "      <td>False</td>\n",
       "      <td>False</td>\n",
       "      <td>False</td>\n",
       "      <td>True</td>\n",
       "      <td>False</td>\n",
       "      <td>Alabama</td>\n",
       "      <td>No</td>\n",
       "    </tr>\n",
       "  </tbody>\n",
       "</table>\n",
       "<p>5 rows × 30 columns</p>\n",
       "</div>"
      ],
      "text/plain": [
       "   ads18_frequentHealthIssue  ads18_highBP  ads18_highChl  ads18_unknownChl  \\\n",
       "0                      False          True           True             False   \n",
       "1                      False          True          False             False   \n",
       "2                      False         False           True             False   \n",
       "3                      False          True           True             False   \n",
       "4                       True         False          False             False   \n",
       "\n",
       "   ads18_asthma  ads18_formerasthma  ads18_white  ads18_weight  ads18_obese  \\\n",
       "0         False               False         True        7348.0         True   \n",
       "1         False               False         True        9571.0         True   \n",
       "2         False               False         True        8845.0         True   \n",
       "3         False               False         True        7711.0         True   \n",
       "4          True               False         True        6350.0        False   \n",
       "\n",
       "   ads18_havechild  ...    ads18_healthCov  ads18_older40  ads18_age18_25  \\\n",
       "0            False  ...               True           True           False   \n",
       "1            False  ...               True           True           False   \n",
       "2            False  ...               True           True           False   \n",
       "3            False  ...               True           True           False   \n",
       "4            False  ...               True           True           False   \n",
       "\n",
       "   ads18_age25_30  ads18_seatbelt  ads18_veteran  ads18_affordDoc  \\\n",
       "0           False            True           True             True   \n",
       "1           False            True          False             True   \n",
       "2           False            True          False             True   \n",
       "3           False           False          False             True   \n",
       "4           False           False          False             True   \n",
       "\n",
       "   ads18_stroke  ads18_state  label  \n",
       "0         False      Alabama     No  \n",
       "1         False      Alabama     No  \n",
       "2         False      Alabama     No  \n",
       "3         False      Alabama     No  \n",
       "4         False      Alabama     No  \n",
       "\n",
       "[5 rows x 30 columns]"
      ]
     },
     "execution_count": 114,
     "metadata": {},
     "output_type": "execute_result"
    }
   ],
   "source": [
    "engineeredDataAll.head()"
   ]
  },
  {
   "cell_type": "code",
   "execution_count": 3,
   "metadata": {},
   "outputs": [
    {
     "data": {
      "text/plain": [
       "['ads18_frequentHealthIssue',\n",
       " 'ads18_highBP',\n",
       " 'ads18_highChl',\n",
       " 'ads18_unknownChl',\n",
       " 'ads18_asthma',\n",
       " 'ads18_formerasthma',\n",
       " 'ads18_white',\n",
       " 'ads18_weight',\n",
       " 'ads18_obese',\n",
       " 'ads18_havechild',\n",
       " 'ads18_edu',\n",
       " 'ads18_income',\n",
       " 'ads18_drinkdaily',\n",
       " 'ads18_drinkbinge',\n",
       " 'ads18_fruitIntake',\n",
       " 'ads18_vegIntake',\n",
       " 'ads18_potatoIntake',\n",
       " 'ads18_exercise',\n",
       " 'ads18_hivtest',\n",
       " 'ads18_male',\n",
       " 'ads18_healthCov',\n",
       " 'ads18_older40',\n",
       " 'ads18_age18_25',\n",
       " 'ads18_age25_30',\n",
       " 'ads18_seatbelt',\n",
       " 'ads18_veteran',\n",
       " 'ads18_affordDoc',\n",
       " 'ads18_stroke',\n",
       " 'ads18_state',\n",
       " 'label']"
      ]
     },
     "execution_count": 3,
     "metadata": {},
     "output_type": "execute_result"
    }
   ],
   "source": [
    "import pandas as pd\n",
    "list(pd.read_csv('cleanDataSmoke.csv').columns)"
   ]
  },
  {
   "cell_type": "code",
   "execution_count": null,
   "metadata": {},
   "outputs": [],
   "source": []
  }
 ],
 "metadata": {
  "kernelspec": {
   "display_name": "Python 3",
   "language": "python",
   "name": "python3"
  },
  "language_info": {
   "codemirror_mode": {
    "name": "ipython",
    "version": 3
   },
   "file_extension": ".py",
   "mimetype": "text/x-python",
   "name": "python",
   "nbconvert_exporter": "python",
   "pygments_lexer": "ipython3",
   "version": "3.6.6"
  }
 },
 "nbformat": 4,
 "nbformat_minor": 2
}
