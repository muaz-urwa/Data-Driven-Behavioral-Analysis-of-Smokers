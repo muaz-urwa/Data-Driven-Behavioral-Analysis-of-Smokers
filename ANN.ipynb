{
 "cells": [
  {
   "cell_type": "code",
   "execution_count": 1,
   "metadata": {},
   "outputs": [
    {
     "name": "stdout",
     "output_type": "stream",
     "text": [
      "Populating the interactive namespace from numpy and matplotlib\n"
     ]
    }
   ],
   "source": [
    "from __future__ import print_function\n",
    "import numpy as np\n",
    "import pandas as pd\n",
    "\n",
    "\n",
    "from sklearn.ensemble  import RandomForestClassifier as rfc\n",
    "from sklearn.model_selection import train_test_split\n",
    "from sklearn.metrics import confusion_matrix\n",
    "from sklearn.metrics import classification_report\n",
    "from sklearn.linear_model import LogisticRegression as logreg\n",
    "\n",
    "import statsmodels as sm\n",
    "import statsmodels.formula.api as smf\n",
    "import statsmodels.api as sma\n",
    "\n",
    "from sklearn.feature_selection import chi2\n",
    "\n",
    "import scipy as sp\n",
    "from scipy import stats\n",
    "\n",
    "from sklearn.preprocessing import LabelEncoder\n",
    "from sklearn import metrics\n",
    "\n",
    "import pylab as pl\n",
    "%pylab inline"
   ]
  },
  {
   "cell_type": "code",
   "execution_count": 2,
   "metadata": {},
   "outputs": [
    {
     "name": "stderr",
     "output_type": "stream",
     "text": [
      "Using TensorFlow backend.\n"
     ]
    }
   ],
   "source": [
    "from keras.models import Sequential\n",
    "from keras.layers import Dense\n",
    "from keras.wrappers.scikit_learn import KerasClassifier\n",
    "from sklearn.model_selection import cross_val_score\n",
    "from sklearn.preprocessing import LabelEncoder\n",
    "from sklearn.model_selection import StratifiedKFold\n",
    "from sklearn.preprocessing import StandardScaler\n",
    "from sklearn.pipeline import Pipeline"
   ]
  },
  {
   "cell_type": "code",
   "execution_count": 3,
   "metadata": {},
   "outputs": [],
   "source": [
    "def filterPerfectCorrelation(df):\n",
    "    cols = df.columns\n",
    "    removeCols = []\n",
    "    for i in range(len(cols)-1):\n",
    "        for j in range(i+1,len(cols)):\n",
    "            cor = stats.pearsonr(df[cols[i]].values, df[cols[j]].values)[0]\n",
    "            if cor >=1 or cor <=-1:\n",
    "                removeCols.append(cols[i])\n",
    "    return df[[c for c in cols if c not in removeCols]]\n",
    "        "
   ]
  },
  {
   "cell_type": "code",
   "execution_count": 4,
   "metadata": {},
   "outputs": [],
   "source": [
    "def bolleanToNumeric(df):\n",
    "    for c in df.columns:\n",
    "        df[c] = df[c].astype(int)\n",
    "    return df"
   ]
  },
  {
   "cell_type": "code",
   "execution_count": 5,
   "metadata": {},
   "outputs": [],
   "source": [
    "# remove class imballance by sampling from majority class\n",
    "def classImballanceDownSample(df,ycol):\n",
    "    df = df.copy()\n",
    "    valueCount = df[ycol].value_counts()\n",
    "    print(\"Before Class Imballance Treatment: \")\n",
    "    print(valueCount)\n",
    "    classes = valueCount.index\n",
    "    counts = valueCount.values\n",
    "    minClassSize = np.min(counts)\n",
    "    for clas in classes:\n",
    "        df1 = df[df[ycol]==clas]\n",
    "        df2 = df[df[ycol]!=clas]\n",
    "        \n",
    "        df1 = df1.sample(n=minClassSize, random_state=50)\n",
    "        df = df1.append(df2)\n",
    "    #shuffling the dataframe\n",
    "    df = df.sample(frac=1).reset_index(drop=True)\n",
    "    print(\"After Class Imballance Treatment: \")\n",
    "    print(df[ycol].value_counts())\n",
    "    return df  "
   ]
  },
  {
   "cell_type": "code",
   "execution_count": 6,
   "metadata": {},
   "outputs": [],
   "source": [
    "# remove class imballance by up sampling minority classes\n",
    "def classImballanceUpSample(df,ycol):\n",
    "    df = df.copy()\n",
    "    valueCount = df[ycol].value_counts()\n",
    "    print(\"Before Class Imballance Treatment: \")\n",
    "    print(valueCount)\n",
    "    classes = valueCount.index\n",
    "    counts = valueCount.values\n",
    "    maxClassSize = np.max(counts).astype(float)\n",
    "    fractions = maxClassSize / counts\n",
    "    for clas,f in zip(classes,fractions):\n",
    "        df1 = df[df[ycol]==clas]\n",
    "        df2 = df[df[ycol]!=clas]\n",
    "        \n",
    "        df1 = df1.sample(frac=f, replace=True, random_state=50)\n",
    "        df = df1.append(df2)\n",
    "    #shuffling the dataframe\n",
    "    df = df.sample(frac=1).reset_index(drop=True)\n",
    "    print(\"After Class Imballance Treatment: \")\n",
    "    print(df[ycol].value_counts())\n",
    "    return df  "
   ]
  },
  {
   "cell_type": "code",
   "execution_count": 7,
   "metadata": {},
   "outputs": [],
   "source": [
    "# model that trains a default random forest and prints the report\n",
    "def getModel(df,label, ballanceClasses=None, rfcBalance = None):\n",
    "    \n",
    "    xcols = [c for c in df.columns if c != label]\n",
    "    ycols = [label]\n",
    "    print(\"Predictors: \",len(xcols))\n",
    "    print(\"label: \",ycols[0])\n",
    "    \n",
    "#     if ballanceClasses != None:\n",
    "#         df = ballanceClasses(df, ycols[0])\n",
    "        \n",
    "    X = df[xcols]\n",
    "    Y = df[ycols]\n",
    "    \n",
    "    #X = labelEncodeCategoricalFeatures(X)\n",
    "    #print(\"Label Encoding.\")\n",
    "    \n",
    "    X_train, X_test, y_train, y_test = train_test_split(X, Y, test_size=0.33, random_state=42, shuffle=True)\n",
    "    print(\"Train Test Split:\")\n",
    "    print(np.array(X_train).shape, np.array(X_test).shape, np.array(y_train).shape, np.array(y_test).shape)\n",
    "    \n",
    "    if ballanceClasses != None:\n",
    "        dfTrain = X_train\n",
    "        dfTrain['label'] = y_train\n",
    "        dfTrain = ballanceClasses(dfTrain,'label')\n",
    "        X_train = dfTrain[ [c for c in dfTrain.columns if c not in 'label'] ]\n",
    "        y_train = dfTrain['label']\n",
    "    \n",
    "    #print(\"Checking if sampling worked:\")\n",
    "    #print(y_train.value_counts())\n",
    "    #print()\n",
    "    \n",
    "    if rfcBalance == None:\n",
    "        clf = rfc()\n",
    "    else:\n",
    "        clf = rfc(class_weight = rfcBalance)\n",
    "        print(clf)\n",
    "    \n",
    "    #clf = rfc()\n",
    "    clf.fit(X_train, y_train.values.ravel())\n",
    "    y_pred = clf.predict(X_test)\n",
    "    print(\"Accuracy : \", np.sum(y_test[ycols[0]].values==y_pred).astype(float)/len(y_test) )\n",
    "    print(classification_report(y_test[ycols[0]].values, y_pred))"
   ]
  },
  {
   "cell_type": "code",
   "execution_count": 8,
   "metadata": {},
   "outputs": [],
   "source": [
    "# baseline model\n",
    "def create_baseline():\n",
    "\t# create model\n",
    "\tmodel = Sequential()\n",
    "\tmodel.add(Dense(28, input_dim=28, kernel_initializer='normal', activation='relu'))\n",
    "\tmodel.add(Dense(1, kernel_initializer='normal', activation='sigmoid'))\n",
    "\t# Compile model\n",
    "\tmodel.compile(loss='binary_crossentropy', optimizer='adam', metrics=['accuracy'])\n",
    "\treturn model"
   ]
  },
  {
   "cell_type": "markdown",
   "metadata": {},
   "source": [
    "### Load Data"
   ]
  },
  {
   "cell_type": "code",
   "execution_count": 9,
   "metadata": {},
   "outputs": [],
   "source": [
    "cleandf = pd.read_csv('cleanData.csv')"
   ]
  },
  {
   "cell_type": "code",
   "execution_count": 10,
   "metadata": {},
   "outputs": [
    {
     "data": {
      "text/html": [
       "<div>\n",
       "<style scoped>\n",
       "    .dataframe tbody tr th:only-of-type {\n",
       "        vertical-align: middle;\n",
       "    }\n",
       "\n",
       "    .dataframe tbody tr th {\n",
       "        vertical-align: top;\n",
       "    }\n",
       "\n",
       "    .dataframe thead th {\n",
       "        text-align: right;\n",
       "    }\n",
       "</style>\n",
       "<table border=\"1\" class=\"dataframe\">\n",
       "  <thead>\n",
       "    <tr style=\"text-align: right;\">\n",
       "      <th></th>\n",
       "      <th>ads18_frequentHealthIssue</th>\n",
       "      <th>ads18_highBP</th>\n",
       "      <th>ads18_highChl</th>\n",
       "      <th>ads18_unknownChl</th>\n",
       "      <th>ads18_asthma</th>\n",
       "      <th>ads18_formerasthma</th>\n",
       "      <th>ads18_white</th>\n",
       "      <th>ads18_weight</th>\n",
       "      <th>ads18_obese</th>\n",
       "      <th>ads18_havechild</th>\n",
       "      <th>...</th>\n",
       "      <th>ads18_male</th>\n",
       "      <th>ads18_healthCov</th>\n",
       "      <th>ads18_older40</th>\n",
       "      <th>ads18_age18_25</th>\n",
       "      <th>ads18_age25_30</th>\n",
       "      <th>ads18_seatbelt</th>\n",
       "      <th>ads18_veteran</th>\n",
       "      <th>ads18_affordDoc</th>\n",
       "      <th>ads18_stroke</th>\n",
       "      <th>label</th>\n",
       "    </tr>\n",
       "  </thead>\n",
       "  <tbody>\n",
       "    <tr>\n",
       "      <th>0</th>\n",
       "      <td>False</td>\n",
       "      <td>True</td>\n",
       "      <td>False</td>\n",
       "      <td>False</td>\n",
       "      <td>False</td>\n",
       "      <td>False</td>\n",
       "      <td>True</td>\n",
       "      <td>8890.0</td>\n",
       "      <td>True</td>\n",
       "      <td>False</td>\n",
       "      <td>...</td>\n",
       "      <td>True</td>\n",
       "      <td>True</td>\n",
       "      <td>True</td>\n",
       "      <td>False</td>\n",
       "      <td>False</td>\n",
       "      <td>True</td>\n",
       "      <td>True</td>\n",
       "      <td>True</td>\n",
       "      <td>False</td>\n",
       "      <td>False</td>\n",
       "    </tr>\n",
       "    <tr>\n",
       "      <th>1</th>\n",
       "      <td>False</td>\n",
       "      <td>False</td>\n",
       "      <td>False</td>\n",
       "      <td>True</td>\n",
       "      <td>False</td>\n",
       "      <td>False</td>\n",
       "      <td>True</td>\n",
       "      <td>7484.0</td>\n",
       "      <td>True</td>\n",
       "      <td>False</td>\n",
       "      <td>...</td>\n",
       "      <td>True</td>\n",
       "      <td>True</td>\n",
       "      <td>True</td>\n",
       "      <td>False</td>\n",
       "      <td>False</td>\n",
       "      <td>True</td>\n",
       "      <td>True</td>\n",
       "      <td>True</td>\n",
       "      <td>False</td>\n",
       "      <td>False</td>\n",
       "    </tr>\n",
       "    <tr>\n",
       "      <th>2</th>\n",
       "      <td>False</td>\n",
       "      <td>False</td>\n",
       "      <td>True</td>\n",
       "      <td>False</td>\n",
       "      <td>False</td>\n",
       "      <td>False</td>\n",
       "      <td>True</td>\n",
       "      <td>5897.0</td>\n",
       "      <td>False</td>\n",
       "      <td>False</td>\n",
       "      <td>...</td>\n",
       "      <td>False</td>\n",
       "      <td>True</td>\n",
       "      <td>True</td>\n",
       "      <td>False</td>\n",
       "      <td>False</td>\n",
       "      <td>False</td>\n",
       "      <td>False</td>\n",
       "      <td>True</td>\n",
       "      <td>False</td>\n",
       "      <td>False</td>\n",
       "    </tr>\n",
       "    <tr>\n",
       "      <th>3</th>\n",
       "      <td>False</td>\n",
       "      <td>False</td>\n",
       "      <td>False</td>\n",
       "      <td>False</td>\n",
       "      <td>False</td>\n",
       "      <td>False</td>\n",
       "      <td>True</td>\n",
       "      <td>11340.0</td>\n",
       "      <td>True</td>\n",
       "      <td>True</td>\n",
       "      <td>...</td>\n",
       "      <td>True</td>\n",
       "      <td>True</td>\n",
       "      <td>False</td>\n",
       "      <td>False</td>\n",
       "      <td>True</td>\n",
       "      <td>False</td>\n",
       "      <td>False</td>\n",
       "      <td>True</td>\n",
       "      <td>False</td>\n",
       "      <td>False</td>\n",
       "    </tr>\n",
       "    <tr>\n",
       "      <th>4</th>\n",
       "      <td>False</td>\n",
       "      <td>False</td>\n",
       "      <td>False</td>\n",
       "      <td>True</td>\n",
       "      <td>False</td>\n",
       "      <td>False</td>\n",
       "      <td>True</td>\n",
       "      <td>4536.0</td>\n",
       "      <td>False</td>\n",
       "      <td>True</td>\n",
       "      <td>...</td>\n",
       "      <td>False</td>\n",
       "      <td>False</td>\n",
       "      <td>False</td>\n",
       "      <td>False</td>\n",
       "      <td>True</td>\n",
       "      <td>False</td>\n",
       "      <td>False</td>\n",
       "      <td>False</td>\n",
       "      <td>False</td>\n",
       "      <td>False</td>\n",
       "    </tr>\n",
       "  </tbody>\n",
       "</table>\n",
       "<p>5 rows × 29 columns</p>\n",
       "</div>"
      ],
      "text/plain": [
       "   ads18_frequentHealthIssue  ads18_highBP  ads18_highChl  ads18_unknownChl  \\\n",
       "0                      False          True          False             False   \n",
       "1                      False         False          False              True   \n",
       "2                      False         False           True             False   \n",
       "3                      False         False          False             False   \n",
       "4                      False         False          False              True   \n",
       "\n",
       "   ads18_asthma  ads18_formerasthma  ads18_white  ads18_weight  ads18_obese  \\\n",
       "0         False               False         True        8890.0         True   \n",
       "1         False               False         True        7484.0         True   \n",
       "2         False               False         True        5897.0        False   \n",
       "3         False               False         True       11340.0         True   \n",
       "4         False               False         True        4536.0        False   \n",
       "\n",
       "   ads18_havechild  ...    ads18_male  ads18_healthCov  ads18_older40  \\\n",
       "0            False  ...          True             True           True   \n",
       "1            False  ...          True             True           True   \n",
       "2            False  ...         False             True           True   \n",
       "3             True  ...          True             True          False   \n",
       "4             True  ...         False            False          False   \n",
       "\n",
       "   ads18_age18_25  ads18_age25_30  ads18_seatbelt  ads18_veteran  \\\n",
       "0           False           False            True           True   \n",
       "1           False           False            True           True   \n",
       "2           False           False           False          False   \n",
       "3           False            True           False          False   \n",
       "4           False            True           False          False   \n",
       "\n",
       "   ads18_affordDoc  ads18_stroke  label  \n",
       "0             True         False  False  \n",
       "1             True         False  False  \n",
       "2             True         False  False  \n",
       "3             True         False  False  \n",
       "4            False         False  False  \n",
       "\n",
       "[5 rows x 29 columns]"
      ]
     },
     "execution_count": 10,
     "metadata": {},
     "output_type": "execute_result"
    }
   ],
   "source": [
    "cleandf.head()"
   ]
  },
  {
   "cell_type": "code",
   "execution_count": 11,
   "metadata": {},
   "outputs": [
    {
     "name": "stdout",
     "output_type": "stream",
     "text": [
      "Records:  61934\n",
      "Records after cleaning Nan:  55953\n"
     ]
    }
   ],
   "source": [
    "print(\"Records: \",len(cleandf))\n",
    "cleandf = cleandf.dropna()\n",
    "print(\"Records after cleaning Nan: \",len(cleandf))"
   ]
  },
  {
   "cell_type": "code",
   "execution_count": 12,
   "metadata": {},
   "outputs": [
    {
     "name": "stdout",
     "output_type": "stream",
     "text": [
      "Before Class Imballance Treatment: \n",
      "False    50092\n",
      "True      5861\n",
      "Name: label, dtype: int64\n",
      "After Class Imballance Treatment: \n",
      "True     5861\n",
      "False    5861\n",
      "Name: label, dtype: int64\n"
     ]
    }
   ],
   "source": [
    "cleandf = classImballanceDownSample(cleandf, 'label')"
   ]
  },
  {
   "cell_type": "code",
   "execution_count": 13,
   "metadata": {},
   "outputs": [],
   "source": [
    "# fix random seed for reproducibility\n",
    "seed = 7\n",
    "numpy.random.seed(seed)"
   ]
  },
  {
   "cell_type": "code",
   "execution_count": 14,
   "metadata": {},
   "outputs": [],
   "source": [
    "Y= cleandf['label']\n",
    "X = np.asarray(cleandf[[c for c in cleandf.columns if c != 'label']])\n",
    "#encoded_Y = Y"
   ]
  },
  {
   "cell_type": "code",
   "execution_count": 15,
   "metadata": {},
   "outputs": [],
   "source": [
    "# encode class values as integers\n",
    "encoder = LabelEncoder()\n",
    "encoder.fit(Y)\n",
    "encoded_Y = encoder.transform(Y)"
   ]
  },
  {
   "cell_type": "code",
   "execution_count": 16,
   "metadata": {},
   "outputs": [
    {
     "name": "stdout",
     "output_type": "stream",
     "text": [
      "WARNING:tensorflow:From /home/urwa/miniconda3/envs/nlp/lib/python3.6/site-packages/keras/backend/tensorflow_backend.py:1340: calling reduce_mean (from tensorflow.python.ops.math_ops) with keep_dims is deprecated and will be removed in a future version.\n",
      "Instructions for updating:\n",
      "keep_dims is deprecated, use keepdims instead\n",
      "Results: 55.85% (7.15%)\n"
     ]
    }
   ],
   "source": [
    "# evaluate model with standardized dataset\n",
    "estimator = KerasClassifier(build_fn=create_baseline, epochs=50, batch_size=20, verbose=0)\n",
    "kfold = StratifiedKFold(n_splits=5, shuffle=True, random_state=seed)\n",
    "results = cross_val_score(estimator, X, encoded_Y, cv=kfold)\n",
    "print(\"Results: %.2f%% (%.2f%%)\" % (results.mean()*100, results.std()*100))"
   ]
  },
  {
   "cell_type": "code",
   "execution_count": null,
   "metadata": {},
   "outputs": [],
   "source": []
  },
  {
   "cell_type": "code",
   "execution_count": null,
   "metadata": {},
   "outputs": [],
   "source": []
  },
  {
   "cell_type": "code",
   "execution_count": null,
   "metadata": {},
   "outputs": [],
   "source": []
  }
 ],
 "metadata": {
  "kernelspec": {
   "display_name": "Python 3",
   "language": "python",
   "name": "python3"
  },
  "language_info": {
   "codemirror_mode": {
    "name": "ipython",
    "version": 3
   },
   "file_extension": ".py",
   "mimetype": "text/x-python",
   "name": "python",
   "nbconvert_exporter": "python",
   "pygments_lexer": "ipython3",
   "version": "3.6.6"
  }
 },
 "nbformat": 4,
 "nbformat_minor": 2
}
